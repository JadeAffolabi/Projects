{
 "cells": [
  {
   "cell_type": "markdown",
   "id": "286ffe53-5c96-4069-8375-4b8e2cdc4195",
   "metadata": {
    "id": "286ffe53-5c96-4069-8375-4b8e2cdc4195"
   },
   "source": [
    "<div align=\"center\"><h1>Trophic Metaweb : Interactions predictions</h1></div>"
   ]
  },
  {
   "cell_type": "markdown",
   "id": "f2273084-b011-462b-86ed-415c814adc3f",
   "metadata": {
    "id": "f2273084-b011-462b-86ed-415c814adc3f"
   },
   "source": [
    "<div class=\"alert alert-success\">"
   ]
  },
  {
   "cell_type": "markdown",
   "id": "60675e1a-7667-4a6a-bae0-e313643254f4",
   "metadata": {
    "id": "60675e1a-7667-4a6a-bae0-e313643254f4"
   },
   "source": [
    "<div align = \"center\"><img src=\"./metaweb_image.png\" alt=\"Metaweb image\"/></div>"
   ]
  },
  {
   "cell_type": "markdown",
   "id": "ea8ba06b-ddd7-4b7f-91b8-f7903d140286",
   "metadata": {
    "id": "ea8ba06b-ddd7-4b7f-91b8-f7903d140286"
   },
   "source": [
    "<div class=\"alert alert-success\">"
   ]
  },
  {
   "cell_type": "code",
   "execution_count": 3,
   "id": "b6786367-4cf5-49c4-8c1c-443a78eae31f",
   "metadata": {
    "executionInfo": {
     "elapsed": 7414,
     "status": "ok",
     "timestamp": 1747027697321,
     "user": {
      "displayName": "Jade AFFOLABI",
      "userId": "17879023831446420678"
     },
     "user_tz": -120
    },
    "id": "b6786367-4cf5-49c4-8c1c-443a78eae31f"
   },
   "outputs": [],
   "source": [
    "# imports\n",
    "import os\n",
    "\n",
    "os.environ[\"DGLBACKEND\"] = \"pytorch\"\n",
    "\n",
    "import csv\n",
    "import dgl\n",
    "import torch\n",
    "import torch\n",
    "import pickle\n",
    "import itertools\n",
    "import numpy as np\n",
    "import pandas as pd\n",
    "import networkx as nx\n",
    "import torch.nn as nn\n",
    "import scipy.sparse as sparse\n",
    "import matplotlib.pyplot as plt\n",
    "import torch.nn.functional as F\n",
    "from pyvis.network import Network\n",
    "from sklearn.metrics import roc_auc_score\n",
    "from dgl.dataloading import GraphDataLoader\n",
    "from sklearn.preprocessing import LabelEncoder\n",
    "from sklearn.model_selection import train_test_split\n",
    "from torch.utils.data.sampler import SubsetRandomSampler"
   ]
  },
  {
   "cell_type": "markdown",
   "id": "2c1d9de8-a140-43ff-96ee-b0dbf70cc419",
   "metadata": {
    "id": "2c1d9de8-a140-43ff-96ee-b0dbf70cc419"
   },
   "source": [
    "### Preprocessing & Visualization"
   ]
  },
  {
   "cell_type": "code",
   "execution_count": 4,
   "id": "a81ef4a9-aa7c-411a-9d2b-3261e9be1c80",
   "metadata": {
    "executionInfo": {
     "elapsed": 579,
     "status": "ok",
     "timestamp": 1747027697903,
     "user": {
      "displayName": "Jade AFFOLABI",
      "userId": "17879023831446420678"
     },
     "user_tz": -120
    },
    "id": "a81ef4a9-aa7c-411a-9d2b-3261e9be1c80"
   },
   "outputs": [],
   "source": [
    "edges_data  = open('list_edges.csv', \"r\", encoding='utf8')\n",
    "reader = csv.reader(edges_data)\n",
    "edge_list = []\n",
    "next(reader) # skip first line\n",
    "for row in reader:\n",
    "    edge_list.append((row[0],row[1]))"
   ]
  },
  {
   "cell_type": "code",
   "execution_count": 5,
   "id": "CiqJUcZ_z1BJ",
   "metadata": {
    "colab": {
     "base_uri": "https://localhost:8080/"
    },
    "executionInfo": {
     "elapsed": 19,
     "status": "ok",
     "timestamp": 1747027697925,
     "user": {
      "displayName": "Jade AFFOLABI",
      "userId": "17879023831446420678"
     },
     "user_tz": -120
    },
    "id": "CiqJUcZ_z1BJ",
    "outputId": "792a4004-9fd8-46a4-d992-6d570946602a"
   },
   "outputs": [
    {
     "data": {
      "text/plain": [
       "145677"
      ]
     },
     "execution_count": 5,
     "metadata": {},
     "output_type": "execute_result"
    }
   ],
   "source": [
    "len(edge_list)"
   ]
  },
  {
   "cell_type": "code",
   "execution_count": 6,
   "id": "feb93334-d0ca-4db8-96aa-dc1837fe9cbf",
   "metadata": {
    "executionInfo": {
     "elapsed": 220,
     "status": "ok",
     "timestamp": 1747027698144,
     "user": {
      "displayName": "Jade AFFOLABI",
      "userId": "17879023831446420678"
     },
     "user_tz": -120
    },
    "id": "feb93334-d0ca-4db8-96aa-dc1837fe9cbf"
   },
   "outputs": [],
   "source": [
    "G = nx.DiGraph()\n",
    "G.add_edges_from(edge_list)"
   ]
  },
  {
   "cell_type": "code",
   "execution_count": 7,
   "id": "96a96584-b441-4080-9f4d-03d3e48f575b",
   "metadata": {
    "colab": {
     "base_uri": "https://localhost:8080/"
    },
    "executionInfo": {
     "elapsed": 10,
     "status": "ok",
     "timestamp": 1747027698171,
     "user": {
      "displayName": "Jade AFFOLABI",
      "userId": "17879023831446420678"
     },
     "user_tz": -120
    },
    "id": "96a96584-b441-4080-9f4d-03d3e48f575b",
    "outputId": "204910ab-e4c4-4576-a486-3be40dabf470"
   },
   "outputs": [
    {
     "name": "stdout",
     "output_type": "stream",
     "text": [
      "Nodes: 1151, Edges: 83568\n"
     ]
    }
   ],
   "source": [
    "print(f\"Nodes: {len(G.nodes())}, Edges: {len(G.edges())}\")"
   ]
  },
  {
   "cell_type": "code",
   "execution_count": 8,
   "id": "1cf69385-8cfb-4537-b707-fb7cc39b6dbc",
   "metadata": {
    "executionInfo": {
     "elapsed": 400,
     "status": "ok",
     "timestamp": 1747027698573,
     "user": {
      "displayName": "Jade AFFOLABI",
      "userId": "17879023831446420678"
     },
     "user_tz": -120
    },
    "id": "1cf69385-8cfb-4537-b707-fb7cc39b6dbc"
   },
   "outputs": [],
   "source": [
    "# Choose a subset of nodes to create a smaller graph for testing\n",
    "subgraph_nodes = list(G.nodes())[:40]  # First 50 nodes for example\n",
    "subgraph = G.subgraph(subgraph_nodes)\n",
    "\n",
    "net = Network(notebook=True,cdn_resources=\"in_line\", directed=True)\n",
    "net.from_nx(subgraph)\n",
    "net.force_atlas_2based()\n",
    "net.save_graph(\"subgraph.html\")"
   ]
  },
  {
   "cell_type": "code",
   "execution_count": 9,
   "id": "9b616215-c1fd-4957-8aaa-8cd827a906a0",
   "metadata": {
    "executionInfo": {
     "elapsed": 252,
     "status": "ok",
     "timestamp": 1747027698827,
     "user": {
      "displayName": "Jade AFFOLABI",
      "userId": "17879023831446420678"
     },
     "user_tz": -120
    },
    "id": "9b616215-c1fd-4957-8aaa-8cd827a906a0"
   },
   "outputs": [],
   "source": [
    "info_species = {}\n",
    "with open('clean_species_and_taxo.csv', mode='r') as csv_file:\n",
    "    csv_reader = csv.DictReader(csv_file,delimiter=\";\")\n",
    "    line_count = 0\n",
    "    next(csv_reader) #skip first row\n",
    "    for row in csv_reader:\n",
    "        info_species[row['Species ID']] = row"
   ]
  },
  {
   "cell_type": "code",
   "execution_count": 10,
   "id": "d3ce4b6e-6543-4511-a291-17b739040380",
   "metadata": {
    "executionInfo": {
     "elapsed": 12,
     "status": "ok",
     "timestamp": 1747027698855,
     "user": {
      "displayName": "Jade AFFOLABI",
      "userId": "17879023831446420678"
     },
     "user_tz": -120
    },
    "id": "d3ce4b6e-6543-4511-a291-17b739040380",
    "scrolled": true
   },
   "outputs": [],
   "source": [
    "# Remove unnecessary information\n",
    "keys_to_remove = [\"Species ID\", \"ITIS code\", \"Catalogue of Life\", \"Species\"]\n",
    "for sp in info_species.keys():\n",
    "    for key in keys_to_remove:\n",
    "        info_species[sp].pop(key, None)"
   ]
  },
  {
   "cell_type": "code",
   "execution_count": 11,
   "id": "e6d5ba8d-1ccd-4c95-8014-d266642592ce",
   "metadata": {
    "executionInfo": {
     "elapsed": 119,
     "status": "ok",
     "timestamp": 1747027698977,
     "user": {
      "displayName": "Jade AFFOLABI",
      "userId": "17879023831446420678"
     },
     "user_tz": -120
    },
    "id": "e6d5ba8d-1ccd-4c95-8014-d266642592ce"
   },
   "outputs": [],
   "source": [
    "with open('data_species.pickle','rb') as file:\n",
    "    data_species = pickle.load(file)"
   ]
  },
  {
   "cell_type": "code",
   "execution_count": 12,
   "id": "8316e7d1-dafa-4fc4-b654-17b7bc3c40f1",
   "metadata": {
    "executionInfo": {
     "elapsed": 13,
     "status": "ok",
     "timestamp": 1747027699006,
     "user": {
      "displayName": "Jade AFFOLABI",
      "userId": "17879023831446420678"
     },
     "user_tz": -120
    },
    "id": "8316e7d1-dafa-4fc4-b654-17b7bc3c40f1"
   },
   "outputs": [],
   "source": [
    "features_dict = data_species\n",
    "for sp in info_species.keys():\n",
    "    features_dict[sp].update(info_species[sp])\n",
    "    features_dict[sp].pop(\"Sp.code\", None)"
   ]
  },
  {
   "cell_type": "code",
   "execution_count": 13,
   "id": "2fe1c06e-04a6-4c3a-a048-f8c4a8d84365",
   "metadata": {
    "colab": {
     "base_uri": "https://localhost:8080/"
    },
    "executionInfo": {
     "elapsed": 19,
     "status": "ok",
     "timestamp": 1747027699027,
     "user": {
      "displayName": "Jade AFFOLABI",
      "userId": "17879023831446420678"
     },
     "user_tz": -120
    },
    "id": "2fe1c06e-04a6-4c3a-a048-f8c4a8d84365",
    "outputId": "f596f878-85dd-4657-d86b-7ef7013c65a0"
   },
   "outputs": [
    {
     "name": "stdout",
     "output_type": "stream",
     "text": [
      "The following species are not included in the graph : ['B164', 'B286', 'B517', 'B518', 'B519', 'B520', 'B521', 'B522', 'B523', 'B524', 'R254']\n"
     ]
    }
   ],
   "source": [
    "excluded_species = []\n",
    "for key in data_species.keys():\n",
    "    if key not in info_species.keys():\n",
    "        excluded_species.append(key)\n",
    "print(f\"The following species are not included in the graph : {excluded_species}\")"
   ]
  },
  {
   "cell_type": "markdown",
   "id": "03c356c6-279f-4505-a039-496400ecbddc",
   "metadata": {
    "id": "03c356c6-279f-4505-a039-496400ecbddc"
   },
   "source": [
    "This choice has been made because those species did not appears in the \"clean_species_and_taxo.csv\" file."
   ]
  },
  {
   "cell_type": "code",
   "execution_count": 14,
   "id": "91c90ab6-c094-4f91-a4b3-0085ab993a4c",
   "metadata": {
    "executionInfo": {
     "elapsed": 2,
     "status": "ok",
     "timestamp": 1747027699031,
     "user": {
      "displayName": "Jade AFFOLABI",
      "userId": "17879023831446420678"
     },
     "user_tz": -120
    },
    "id": "91c90ab6-c094-4f91-a4b3-0085ab993a4c"
   },
   "outputs": [],
   "source": [
    "# Remove species which are absent from list_edges.csv\n",
    "for key in excluded_species:\n",
    "        features_dict.pop(key, None)"
   ]
  },
  {
   "cell_type": "code",
   "execution_count": 15,
   "id": "a4e2918a-d7e9-47d2-882a-162e51f23383",
   "metadata": {
    "executionInfo": {
     "elapsed": 4,
     "status": "ok",
     "timestamp": 1747027699038,
     "user": {
      "displayName": "Jade AFFOLABI",
      "userId": "17879023831446420678"
     },
     "user_tz": -120
    },
    "id": "a4e2918a-d7e9-47d2-882a-162e51f23383"
   },
   "outputs": [],
   "source": [
    "features_df = pd.DataFrame(index=features_dict.keys(), columns=features_dict['A1'].keys())"
   ]
  },
  {
   "cell_type": "code",
   "execution_count": 16,
   "id": "6a87eee2-2d40-42ce-9288-74adce7c26ce",
   "metadata": {
    "executionInfo": {
     "elapsed": 2126,
     "status": "ok",
     "timestamp": 1747027701166,
     "user": {
      "displayName": "Jade AFFOLABI",
      "userId": "17879023831446420678"
     },
     "user_tz": -120
    },
    "id": "6a87eee2-2d40-42ce-9288-74adce7c26ce"
   },
   "outputs": [],
   "source": [
    "for sp in features_dict.keys():\n",
    "    for feat in features_df.columns:\n",
    "        features_df.loc[sp, feat] = features_dict[sp][feat]"
   ]
  },
  {
   "cell_type": "code",
   "execution_count": 17,
   "id": "92affe8f-b579-46bb-9970-3654f90330e7",
   "metadata": {
    "executionInfo": {
     "elapsed": 2,
     "status": "ok",
     "timestamp": 1747027701178,
     "user": {
      "displayName": "Jade AFFOLABI",
      "userId": "17879023831446420678"
     },
     "user_tz": -120
    },
    "id": "92affe8f-b579-46bb-9970-3654f90330e7"
   },
   "outputs": [],
   "source": [
    "features_df.replace('NA', np.nan, inplace=True)\n",
    "features_df.iloc[:,:35] = features_df.iloc[:,:35].astype(float)"
   ]
  },
  {
   "cell_type": "code",
   "execution_count": 18,
   "id": "2505589f-b88b-450f-8571-70396c68f470",
   "metadata": {
    "executionInfo": {
     "elapsed": 3,
     "status": "ok",
     "timestamp": 1747027701183,
     "user": {
      "displayName": "Jade AFFOLABI",
      "userId": "17879023831446420678"
     },
     "user_tz": -120
    },
    "id": "2505589f-b88b-450f-8571-70396c68f470"
   },
   "outputs": [],
   "source": [
    "features_df.iloc[:,35:38] = features_df.iloc[:,35:38].apply(LabelEncoder().fit_transform)"
   ]
  },
  {
   "cell_type": "code",
   "execution_count": 19,
   "id": "f8065215-ec52-496a-b25e-e9bc330792e0",
   "metadata": {
    "colab": {
     "base_uri": "https://localhost:8080/"
    },
    "executionInfo": {
     "elapsed": 7,
     "status": "ok",
     "timestamp": 1747027701192,
     "user": {
      "displayName": "Jade AFFOLABI",
      "userId": "17879023831446420678"
     },
     "user_tz": -120
    },
    "id": "f8065215-ec52-496a-b25e-e9bc330792e0",
    "outputId": "a39f5a39-4f3a-4d25-ff48-4d9b2a9f97ab"
   },
   "outputs": [
    {
     "name": "stdout",
     "output_type": "stream",
     "text": [
      "Number of rows with at least one NaN: 59\n",
      "Indices of those rows: ['A98', 'A60', 'A65', 'M32', 'M47', 'M48', 'M50', 'M55', 'M58', 'M71', 'M129', 'M131', 'M135', 'M137', 'M138', 'M146', 'M147', 'M150', 'M154', 'M157', 'M173', 'M184', 'M190', 'M204', 'R5', 'R237', 'R33', 'R35', 'R38', 'R39', 'R188', 'R40', 'R41', 'R44', 'R45', 'R55', 'R104', 'R59', 'R60', 'R64', 'R65', 'R73', 'R71', 'R82', 'R84', 'R87', 'R89', 'R93', 'R100', 'R129', 'R157', 'R119', 'R159', 'R248', 'R249', 'R184', 'R205', 'R215', 'R252']\n"
     ]
    }
   ],
   "source": [
    "df = features_df\n",
    "# Boolean mask of rows with at least one NaN\n",
    "mask = df.isna().any(axis=1)\n",
    "\n",
    "# Count of such rows\n",
    "num_rows_with_nan = mask.sum()\n",
    "\n",
    "# Indices of rows with at least one NaN\n",
    "indices_with_nan = df.index[mask]\n",
    "\n",
    "print(\"Number of rows with at least one NaN:\", num_rows_with_nan)\n",
    "print(\"Indices of those rows:\", indices_with_nan.tolist())"
   ]
  },
  {
   "cell_type": "markdown",
   "id": "48f6cd82-f088-4ca6-97fe-df7255b43bab",
   "metadata": {
    "id": "48f6cd82-f088-4ca6-97fe-df7255b43bab"
   },
   "source": [
    "We choose to remove those species from the graph for now"
   ]
  },
  {
   "cell_type": "code",
   "execution_count": 20,
   "id": "a0249b39-4518-4ebf-9d42-71cb92252963",
   "metadata": {
    "executionInfo": {
     "elapsed": 2,
     "status": "ok",
     "timestamp": 1747027701195,
     "user": {
      "displayName": "Jade AFFOLABI",
      "userId": "17879023831446420678"
     },
     "user_tz": -120
    },
    "id": "a0249b39-4518-4ebf-9d42-71cb92252963"
   },
   "outputs": [],
   "source": [
    "#Remove the species with NaN values\n",
    "features_df.drop(indices_with_nan, inplace=True)\n",
    "features_df = features_df.astype(float)"
   ]
  },
  {
   "cell_type": "code",
   "execution_count": 21,
   "id": "e5a28777-051b-4192-8249-64b8231ddc31",
   "metadata": {
    "executionInfo": {
     "elapsed": 373,
     "status": "ok",
     "timestamp": 1747027701570,
     "user": {
      "displayName": "Jade AFFOLABI",
      "userId": "17879023831446420678"
     },
     "user_tz": -120
    },
    "id": "e5a28777-051b-4192-8249-64b8231ddc31",
    "scrolled": true
   },
   "outputs": [],
   "source": [
    "#Remove edges with exclued species\n",
    "new_edge_list = [edge for edge in edge_list if (edge[0] not in indices_with_nan) and (edge[1] not in indices_with_nan)]"
   ]
  },
  {
   "cell_type": "code",
   "execution_count": 22,
   "id": "48fac1ff-f244-4c9b-a250-b50ba6c12198",
   "metadata": {
    "colab": {
     "base_uri": "https://localhost:8080/"
    },
    "executionInfo": {
     "elapsed": 67,
     "status": "ok",
     "timestamp": 1747027701640,
     "user": {
      "displayName": "Jade AFFOLABI",
      "userId": "17879023831446420678"
     },
     "user_tz": -120
    },
    "id": "48fac1ff-f244-4c9b-a250-b50ba6c12198",
    "outputId": "cec80c75-b419-4cc1-b681-54de0f44efd3"
   },
   "outputs": [
    {
     "name": "stdout",
     "output_type": "stream",
     "text": [
      "The deletion of species with NaN values induce a 8.73% loss of edges.\n"
     ]
    }
   ],
   "source": [
    "lost_edges_ratio = 1-len(new_edge_list)/len(edge_list)\n",
    "print(f\"The deletion of species with NaN values induce a {100*lost_edges_ratio:.2f}% loss of edges.\")"
   ]
  },
  {
   "cell_type": "code",
   "execution_count": 23,
   "id": "5019cc9a-4b03-4d9d-9e23-4cab6562de39",
   "metadata": {
    "executionInfo": {
     "elapsed": 3,
     "status": "ok",
     "timestamp": 1747027701641,
     "user": {
      "displayName": "Jade AFFOLABI",
      "userId": "17879023831446420678"
     },
     "user_tz": -120
    },
    "id": "5019cc9a-4b03-4d9d-9e23-4cab6562de39"
   },
   "outputs": [],
   "source": [
    "def print_feat_summary_family(family_letter):\n",
    "    from collections import defaultdict\n",
    "    # Create a nested dict: summary[subkey][value] = count\n",
    "    summary = defaultdict(lambda: defaultdict(int))\n",
    "    # Loop through keys starting with \"A\"\n",
    "    for key, subdict in features_dict.items():\n",
    "        if key.startswith(family_letter):\n",
    "            for subkey, value in subdict.items():\n",
    "                summary[subkey][value] += 1\n",
    "    # Optional: convert nested defaultdicts to dicts for pretty printing\n",
    "    summary = {k: dict(v) for k, v in summary.items()}\n",
    "    for key, value in summary.items():\n",
    "        print(f\"{key} : {value}\")"
   ]
  },
  {
   "cell_type": "code",
   "execution_count": 24,
   "id": "26227064-6e2f-4d9a-b2fe-f4a4a3cb96c0",
   "metadata": {
    "colab": {
     "base_uri": "https://localhost:8080/",
     "height": 444
    },
    "executionInfo": {
     "elapsed": 99,
     "status": "ok",
     "timestamp": 1747027701775,
     "user": {
      "displayName": "Jade AFFOLABI",
      "userId": "17879023831446420678"
     },
     "user_tz": -120
    },
    "id": "26227064-6e2f-4d9a-b2fe-f4a4a3cb96c0",
    "outputId": "66d19cde-37db-4134-e03d-b6ab42d4bea5"
   },
   "outputs": [
    {
     "data": {
      "application/vnd.google.colaboratory.intrinsic+json": {
       "type": "dataframe",
       "variable_name": "features_df"
      },
      "text/html": [
       "\n",
       "  <div id=\"df-b3ffb5b0-d8a0-4c1e-ba69-e94eef9b3a85\" class=\"colab-df-container\">\n",
       "    <div>\n",
       "<style scoped>\n",
       "    .dataframe tbody tr th:only-of-type {\n",
       "        vertical-align: middle;\n",
       "    }\n",
       "\n",
       "    .dataframe tbody tr th {\n",
       "        vertical-align: top;\n",
       "    }\n",
       "\n",
       "    .dataframe thead th {\n",
       "        text-align: right;\n",
       "    }\n",
       "</style>\n",
       "<table border=\"1\" class=\"dataframe\">\n",
       "  <thead>\n",
       "    <tr style=\"text-align: right;\">\n",
       "      <th></th>\n",
       "      <th>Mushrooms</th>\n",
       "      <th>Grazer</th>\n",
       "      <th>Nocturnal</th>\n",
       "      <th>Ground</th>\n",
       "      <th>Vertebrate</th>\n",
       "      <th>Herptile</th>\n",
       "      <th>Brooks.springs.small_rivers</th>\n",
       "      <th>Mosses.Lichens</th>\n",
       "      <th>Invert</th>\n",
       "      <th>Small_Mam</th>\n",
       "      <th>...</th>\n",
       "      <th>Vegitative</th>\n",
       "      <th>Diurnal</th>\n",
       "      <th>Large_Mam</th>\n",
       "      <th>Tree_hole.fissure_in_the_bark</th>\n",
       "      <th>Puddles.ponds.pools.small_lakes</th>\n",
       "      <th>Arithmic</th>\n",
       "      <th>Lodge</th>\n",
       "      <th>Class</th>\n",
       "      <th>Order</th>\n",
       "      <th>Family</th>\n",
       "    </tr>\n",
       "  </thead>\n",
       "  <tbody>\n",
       "    <tr>\n",
       "      <th>A1</th>\n",
       "      <td>0.0</td>\n",
       "      <td>0.0</td>\n",
       "      <td>1.0</td>\n",
       "      <td>1.0</td>\n",
       "      <td>0.0</td>\n",
       "      <td>0.0</td>\n",
       "      <td>1.0</td>\n",
       "      <td>0.0</td>\n",
       "      <td>1.0</td>\n",
       "      <td>0.0</td>\n",
       "      <td>...</td>\n",
       "      <td>0.0</td>\n",
       "      <td>0.0</td>\n",
       "      <td>0.0</td>\n",
       "      <td>0.0</td>\n",
       "      <td>1.0</td>\n",
       "      <td>0.0</td>\n",
       "      <td>0.0</td>\n",
       "      <td>0.0</td>\n",
       "      <td>1.0</td>\n",
       "      <td>6.0</td>\n",
       "    </tr>\n",
       "    <tr>\n",
       "      <th>A2</th>\n",
       "      <td>0.0</td>\n",
       "      <td>0.0</td>\n",
       "      <td>1.0</td>\n",
       "      <td>1.0</td>\n",
       "      <td>0.0</td>\n",
       "      <td>0.0</td>\n",
       "      <td>1.0</td>\n",
       "      <td>0.0</td>\n",
       "      <td>1.0</td>\n",
       "      <td>0.0</td>\n",
       "      <td>...</td>\n",
       "      <td>0.0</td>\n",
       "      <td>0.0</td>\n",
       "      <td>0.0</td>\n",
       "      <td>0.0</td>\n",
       "      <td>1.0</td>\n",
       "      <td>0.0</td>\n",
       "      <td>0.0</td>\n",
       "      <td>0.0</td>\n",
       "      <td>1.0</td>\n",
       "      <td>6.0</td>\n",
       "    </tr>\n",
       "    <tr>\n",
       "      <th>A3</th>\n",
       "      <td>0.0</td>\n",
       "      <td>0.0</td>\n",
       "      <td>1.0</td>\n",
       "      <td>1.0</td>\n",
       "      <td>0.0</td>\n",
       "      <td>0.0</td>\n",
       "      <td>1.0</td>\n",
       "      <td>0.0</td>\n",
       "      <td>1.0</td>\n",
       "      <td>0.0</td>\n",
       "      <td>...</td>\n",
       "      <td>0.0</td>\n",
       "      <td>0.0</td>\n",
       "      <td>0.0</td>\n",
       "      <td>0.0</td>\n",
       "      <td>0.0</td>\n",
       "      <td>0.0</td>\n",
       "      <td>0.0</td>\n",
       "      <td>0.0</td>\n",
       "      <td>1.0</td>\n",
       "      <td>6.0</td>\n",
       "    </tr>\n",
       "    <tr>\n",
       "      <th>A4</th>\n",
       "      <td>0.0</td>\n",
       "      <td>0.0</td>\n",
       "      <td>1.0</td>\n",
       "      <td>0.0</td>\n",
       "      <td>0.0</td>\n",
       "      <td>0.0</td>\n",
       "      <td>1.0</td>\n",
       "      <td>0.0</td>\n",
       "      <td>1.0</td>\n",
       "      <td>0.0</td>\n",
       "      <td>...</td>\n",
       "      <td>0.0</td>\n",
       "      <td>0.0</td>\n",
       "      <td>0.0</td>\n",
       "      <td>0.0</td>\n",
       "      <td>1.0</td>\n",
       "      <td>0.0</td>\n",
       "      <td>0.0</td>\n",
       "      <td>0.0</td>\n",
       "      <td>1.0</td>\n",
       "      <td>6.0</td>\n",
       "    </tr>\n",
       "    <tr>\n",
       "      <th>A77</th>\n",
       "      <td>0.0</td>\n",
       "      <td>0.0</td>\n",
       "      <td>1.0</td>\n",
       "      <td>0.0</td>\n",
       "      <td>0.0</td>\n",
       "      <td>1.0</td>\n",
       "      <td>0.0</td>\n",
       "      <td>0.0</td>\n",
       "      <td>1.0</td>\n",
       "      <td>0.0</td>\n",
       "      <td>...</td>\n",
       "      <td>0.0</td>\n",
       "      <td>0.0</td>\n",
       "      <td>0.0</td>\n",
       "      <td>0.0</td>\n",
       "      <td>0.0</td>\n",
       "      <td>0.0</td>\n",
       "      <td>0.0</td>\n",
       "      <td>0.0</td>\n",
       "      <td>5.0</td>\n",
       "      <td>80.0</td>\n",
       "    </tr>\n",
       "    <tr>\n",
       "      <th>...</th>\n",
       "      <td>...</td>\n",
       "      <td>...</td>\n",
       "      <td>...</td>\n",
       "      <td>...</td>\n",
       "      <td>...</td>\n",
       "      <td>...</td>\n",
       "      <td>...</td>\n",
       "      <td>...</td>\n",
       "      <td>...</td>\n",
       "      <td>...</td>\n",
       "      <td>...</td>\n",
       "      <td>...</td>\n",
       "      <td>...</td>\n",
       "      <td>...</td>\n",
       "      <td>...</td>\n",
       "      <td>...</td>\n",
       "      <td>...</td>\n",
       "      <td>...</td>\n",
       "      <td>...</td>\n",
       "      <td>...</td>\n",
       "      <td>...</td>\n",
       "    </tr>\n",
       "    <tr>\n",
       "      <th>R75</th>\n",
       "      <td>0.0</td>\n",
       "      <td>0.0</td>\n",
       "      <td>0.0</td>\n",
       "      <td>0.0</td>\n",
       "      <td>0.0</td>\n",
       "      <td>1.0</td>\n",
       "      <td>0.0</td>\n",
       "      <td>0.0</td>\n",
       "      <td>0.0</td>\n",
       "      <td>1.0</td>\n",
       "      <td>...</td>\n",
       "      <td>0.0</td>\n",
       "      <td>1.0</td>\n",
       "      <td>0.0</td>\n",
       "      <td>0.0</td>\n",
       "      <td>0.0</td>\n",
       "      <td>0.0</td>\n",
       "      <td>0.0</td>\n",
       "      <td>3.0</td>\n",
       "      <td>26.0</td>\n",
       "      <td>29.0</td>\n",
       "    </tr>\n",
       "    <tr>\n",
       "      <th>R76</th>\n",
       "      <td>0.0</td>\n",
       "      <td>0.0</td>\n",
       "      <td>0.0</td>\n",
       "      <td>0.0</td>\n",
       "      <td>0.0</td>\n",
       "      <td>1.0</td>\n",
       "      <td>0.0</td>\n",
       "      <td>0.0</td>\n",
       "      <td>0.0</td>\n",
       "      <td>1.0</td>\n",
       "      <td>...</td>\n",
       "      <td>0.0</td>\n",
       "      <td>1.0</td>\n",
       "      <td>0.0</td>\n",
       "      <td>0.0</td>\n",
       "      <td>0.0</td>\n",
       "      <td>0.0</td>\n",
       "      <td>0.0</td>\n",
       "      <td>3.0</td>\n",
       "      <td>26.0</td>\n",
       "      <td>29.0</td>\n",
       "    </tr>\n",
       "    <tr>\n",
       "      <th>R241</th>\n",
       "      <td>0.0</td>\n",
       "      <td>0.0</td>\n",
       "      <td>0.0</td>\n",
       "      <td>1.0</td>\n",
       "      <td>0.0</td>\n",
       "      <td>1.0</td>\n",
       "      <td>0.0</td>\n",
       "      <td>0.0</td>\n",
       "      <td>0.0</td>\n",
       "      <td>1.0</td>\n",
       "      <td>...</td>\n",
       "      <td>0.0</td>\n",
       "      <td>1.0</td>\n",
       "      <td>0.0</td>\n",
       "      <td>0.0</td>\n",
       "      <td>0.0</td>\n",
       "      <td>0.0</td>\n",
       "      <td>0.0</td>\n",
       "      <td>3.0</td>\n",
       "      <td>26.0</td>\n",
       "      <td>29.0</td>\n",
       "    </tr>\n",
       "    <tr>\n",
       "      <th>R79</th>\n",
       "      <td>0.0</td>\n",
       "      <td>0.0</td>\n",
       "      <td>0.0</td>\n",
       "      <td>1.0</td>\n",
       "      <td>0.0</td>\n",
       "      <td>1.0</td>\n",
       "      <td>0.0</td>\n",
       "      <td>0.0</td>\n",
       "      <td>1.0</td>\n",
       "      <td>1.0</td>\n",
       "      <td>...</td>\n",
       "      <td>0.0</td>\n",
       "      <td>1.0</td>\n",
       "      <td>0.0</td>\n",
       "      <td>0.0</td>\n",
       "      <td>0.0</td>\n",
       "      <td>0.0</td>\n",
       "      <td>0.0</td>\n",
       "      <td>3.0</td>\n",
       "      <td>26.0</td>\n",
       "      <td>29.0</td>\n",
       "    </tr>\n",
       "    <tr>\n",
       "      <th>R137</th>\n",
       "      <td>0.0</td>\n",
       "      <td>0.0</td>\n",
       "      <td>0.0</td>\n",
       "      <td>1.0</td>\n",
       "      <td>0.0</td>\n",
       "      <td>0.0</td>\n",
       "      <td>0.0</td>\n",
       "      <td>0.0</td>\n",
       "      <td>1.0</td>\n",
       "      <td>0.0</td>\n",
       "      <td>...</td>\n",
       "      <td>0.0</td>\n",
       "      <td>1.0</td>\n",
       "      <td>0.0</td>\n",
       "      <td>0.0</td>\n",
       "      <td>0.0</td>\n",
       "      <td>0.0</td>\n",
       "      <td>0.0</td>\n",
       "      <td>3.0</td>\n",
       "      <td>26.0</td>\n",
       "      <td>56.0</td>\n",
       "    </tr>\n",
       "  </tbody>\n",
       "</table>\n",
       "<p>1092 rows × 38 columns</p>\n",
       "</div>\n",
       "    <div class=\"colab-df-buttons\">\n",
       "\n",
       "  <div class=\"colab-df-container\">\n",
       "    <button class=\"colab-df-convert\" onclick=\"convertToInteractive('df-b3ffb5b0-d8a0-4c1e-ba69-e94eef9b3a85')\"\n",
       "            title=\"Convert this dataframe to an interactive table.\"\n",
       "            style=\"display:none;\">\n",
       "\n",
       "  <svg xmlns=\"http://www.w3.org/2000/svg\" height=\"24px\" viewBox=\"0 -960 960 960\">\n",
       "    <path d=\"M120-120v-720h720v720H120Zm60-500h600v-160H180v160Zm220 220h160v-160H400v160Zm0 220h160v-160H400v160ZM180-400h160v-160H180v160Zm440 0h160v-160H620v160ZM180-180h160v-160H180v160Zm440 0h160v-160H620v160Z\"/>\n",
       "  </svg>\n",
       "    </button>\n",
       "\n",
       "  <style>\n",
       "    .colab-df-container {\n",
       "      display:flex;\n",
       "      gap: 12px;\n",
       "    }\n",
       "\n",
       "    .colab-df-convert {\n",
       "      background-color: #E8F0FE;\n",
       "      border: none;\n",
       "      border-radius: 50%;\n",
       "      cursor: pointer;\n",
       "      display: none;\n",
       "      fill: #1967D2;\n",
       "      height: 32px;\n",
       "      padding: 0 0 0 0;\n",
       "      width: 32px;\n",
       "    }\n",
       "\n",
       "    .colab-df-convert:hover {\n",
       "      background-color: #E2EBFA;\n",
       "      box-shadow: 0px 1px 2px rgba(60, 64, 67, 0.3), 0px 1px 3px 1px rgba(60, 64, 67, 0.15);\n",
       "      fill: #174EA6;\n",
       "    }\n",
       "\n",
       "    .colab-df-buttons div {\n",
       "      margin-bottom: 4px;\n",
       "    }\n",
       "\n",
       "    [theme=dark] .colab-df-convert {\n",
       "      background-color: #3B4455;\n",
       "      fill: #D2E3FC;\n",
       "    }\n",
       "\n",
       "    [theme=dark] .colab-df-convert:hover {\n",
       "      background-color: #434B5C;\n",
       "      box-shadow: 0px 1px 3px 1px rgba(0, 0, 0, 0.15);\n",
       "      filter: drop-shadow(0px 1px 2px rgba(0, 0, 0, 0.3));\n",
       "      fill: #FFFFFF;\n",
       "    }\n",
       "  </style>\n",
       "\n",
       "    <script>\n",
       "      const buttonEl =\n",
       "        document.querySelector('#df-b3ffb5b0-d8a0-4c1e-ba69-e94eef9b3a85 button.colab-df-convert');\n",
       "      buttonEl.style.display =\n",
       "        google.colab.kernel.accessAllowed ? 'block' : 'none';\n",
       "\n",
       "      async function convertToInteractive(key) {\n",
       "        const element = document.querySelector('#df-b3ffb5b0-d8a0-4c1e-ba69-e94eef9b3a85');\n",
       "        const dataTable =\n",
       "          await google.colab.kernel.invokeFunction('convertToInteractive',\n",
       "                                                    [key], {});\n",
       "        if (!dataTable) return;\n",
       "\n",
       "        const docLinkHtml = 'Like what you see? Visit the ' +\n",
       "          '<a target=\"_blank\" href=https://colab.research.google.com/notebooks/data_table.ipynb>data table notebook</a>'\n",
       "          + ' to learn more about interactive tables.';\n",
       "        element.innerHTML = '';\n",
       "        dataTable['output_type'] = 'display_data';\n",
       "        await google.colab.output.renderOutput(dataTable, element);\n",
       "        const docLink = document.createElement('div');\n",
       "        docLink.innerHTML = docLinkHtml;\n",
       "        element.appendChild(docLink);\n",
       "      }\n",
       "    </script>\n",
       "  </div>\n",
       "\n",
       "\n",
       "    <div id=\"df-9a736f57-1cac-4e80-8c10-97a7dc64913f\">\n",
       "      <button class=\"colab-df-quickchart\" onclick=\"quickchart('df-9a736f57-1cac-4e80-8c10-97a7dc64913f')\"\n",
       "                title=\"Suggest charts\"\n",
       "                style=\"display:none;\">\n",
       "\n",
       "<svg xmlns=\"http://www.w3.org/2000/svg\" height=\"24px\"viewBox=\"0 0 24 24\"\n",
       "     width=\"24px\">\n",
       "    <g>\n",
       "        <path d=\"M19 3H5c-1.1 0-2 .9-2 2v14c0 1.1.9 2 2 2h14c1.1 0 2-.9 2-2V5c0-1.1-.9-2-2-2zM9 17H7v-7h2v7zm4 0h-2V7h2v10zm4 0h-2v-4h2v4z\"/>\n",
       "    </g>\n",
       "</svg>\n",
       "      </button>\n",
       "\n",
       "<style>\n",
       "  .colab-df-quickchart {\n",
       "      --bg-color: #E8F0FE;\n",
       "      --fill-color: #1967D2;\n",
       "      --hover-bg-color: #E2EBFA;\n",
       "      --hover-fill-color: #174EA6;\n",
       "      --disabled-fill-color: #AAA;\n",
       "      --disabled-bg-color: #DDD;\n",
       "  }\n",
       "\n",
       "  [theme=dark] .colab-df-quickchart {\n",
       "      --bg-color: #3B4455;\n",
       "      --fill-color: #D2E3FC;\n",
       "      --hover-bg-color: #434B5C;\n",
       "      --hover-fill-color: #FFFFFF;\n",
       "      --disabled-bg-color: #3B4455;\n",
       "      --disabled-fill-color: #666;\n",
       "  }\n",
       "\n",
       "  .colab-df-quickchart {\n",
       "    background-color: var(--bg-color);\n",
       "    border: none;\n",
       "    border-radius: 50%;\n",
       "    cursor: pointer;\n",
       "    display: none;\n",
       "    fill: var(--fill-color);\n",
       "    height: 32px;\n",
       "    padding: 0;\n",
       "    width: 32px;\n",
       "  }\n",
       "\n",
       "  .colab-df-quickchart:hover {\n",
       "    background-color: var(--hover-bg-color);\n",
       "    box-shadow: 0 1px 2px rgba(60, 64, 67, 0.3), 0 1px 3px 1px rgba(60, 64, 67, 0.15);\n",
       "    fill: var(--button-hover-fill-color);\n",
       "  }\n",
       "\n",
       "  .colab-df-quickchart-complete:disabled,\n",
       "  .colab-df-quickchart-complete:disabled:hover {\n",
       "    background-color: var(--disabled-bg-color);\n",
       "    fill: var(--disabled-fill-color);\n",
       "    box-shadow: none;\n",
       "  }\n",
       "\n",
       "  .colab-df-spinner {\n",
       "    border: 2px solid var(--fill-color);\n",
       "    border-color: transparent;\n",
       "    border-bottom-color: var(--fill-color);\n",
       "    animation:\n",
       "      spin 1s steps(1) infinite;\n",
       "  }\n",
       "\n",
       "  @keyframes spin {\n",
       "    0% {\n",
       "      border-color: transparent;\n",
       "      border-bottom-color: var(--fill-color);\n",
       "      border-left-color: var(--fill-color);\n",
       "    }\n",
       "    20% {\n",
       "      border-color: transparent;\n",
       "      border-left-color: var(--fill-color);\n",
       "      border-top-color: var(--fill-color);\n",
       "    }\n",
       "    30% {\n",
       "      border-color: transparent;\n",
       "      border-left-color: var(--fill-color);\n",
       "      border-top-color: var(--fill-color);\n",
       "      border-right-color: var(--fill-color);\n",
       "    }\n",
       "    40% {\n",
       "      border-color: transparent;\n",
       "      border-right-color: var(--fill-color);\n",
       "      border-top-color: var(--fill-color);\n",
       "    }\n",
       "    60% {\n",
       "      border-color: transparent;\n",
       "      border-right-color: var(--fill-color);\n",
       "    }\n",
       "    80% {\n",
       "      border-color: transparent;\n",
       "      border-right-color: var(--fill-color);\n",
       "      border-bottom-color: var(--fill-color);\n",
       "    }\n",
       "    90% {\n",
       "      border-color: transparent;\n",
       "      border-bottom-color: var(--fill-color);\n",
       "    }\n",
       "  }\n",
       "</style>\n",
       "\n",
       "      <script>\n",
       "        async function quickchart(key) {\n",
       "          const quickchartButtonEl =\n",
       "            document.querySelector('#' + key + ' button');\n",
       "          quickchartButtonEl.disabled = true;  // To prevent multiple clicks.\n",
       "          quickchartButtonEl.classList.add('colab-df-spinner');\n",
       "          try {\n",
       "            const charts = await google.colab.kernel.invokeFunction(\n",
       "                'suggestCharts', [key], {});\n",
       "          } catch (error) {\n",
       "            console.error('Error during call to suggestCharts:', error);\n",
       "          }\n",
       "          quickchartButtonEl.classList.remove('colab-df-spinner');\n",
       "          quickchartButtonEl.classList.add('colab-df-quickchart-complete');\n",
       "        }\n",
       "        (() => {\n",
       "          let quickchartButtonEl =\n",
       "            document.querySelector('#df-9a736f57-1cac-4e80-8c10-97a7dc64913f button');\n",
       "          quickchartButtonEl.style.display =\n",
       "            google.colab.kernel.accessAllowed ? 'block' : 'none';\n",
       "        })();\n",
       "      </script>\n",
       "    </div>\n",
       "\n",
       "  <div id=\"id_8600711f-962b-4400-9ad3-bccddb263824\">\n",
       "    <style>\n",
       "      .colab-df-generate {\n",
       "        background-color: #E8F0FE;\n",
       "        border: none;\n",
       "        border-radius: 50%;\n",
       "        cursor: pointer;\n",
       "        display: none;\n",
       "        fill: #1967D2;\n",
       "        height: 32px;\n",
       "        padding: 0 0 0 0;\n",
       "        width: 32px;\n",
       "      }\n",
       "\n",
       "      .colab-df-generate:hover {\n",
       "        background-color: #E2EBFA;\n",
       "        box-shadow: 0px 1px 2px rgba(60, 64, 67, 0.3), 0px 1px 3px 1px rgba(60, 64, 67, 0.15);\n",
       "        fill: #174EA6;\n",
       "      }\n",
       "\n",
       "      [theme=dark] .colab-df-generate {\n",
       "        background-color: #3B4455;\n",
       "        fill: #D2E3FC;\n",
       "      }\n",
       "\n",
       "      [theme=dark] .colab-df-generate:hover {\n",
       "        background-color: #434B5C;\n",
       "        box-shadow: 0px 1px 3px 1px rgba(0, 0, 0, 0.15);\n",
       "        filter: drop-shadow(0px 1px 2px rgba(0, 0, 0, 0.3));\n",
       "        fill: #FFFFFF;\n",
       "      }\n",
       "    </style>\n",
       "    <button class=\"colab-df-generate\" onclick=\"generateWithVariable('features_df')\"\n",
       "            title=\"Generate code using this dataframe.\"\n",
       "            style=\"display:none;\">\n",
       "\n",
       "  <svg xmlns=\"http://www.w3.org/2000/svg\" height=\"24px\"viewBox=\"0 0 24 24\"\n",
       "       width=\"24px\">\n",
       "    <path d=\"M7,19H8.4L18.45,9,17,7.55,7,17.6ZM5,21V16.75L18.45,3.32a2,2,0,0,1,2.83,0l1.4,1.43a1.91,1.91,0,0,1,.58,1.4,1.91,1.91,0,0,1-.58,1.4L9.25,21ZM18.45,9,17,7.55Zm-12,3A5.31,5.31,0,0,0,4.9,8.1,5.31,5.31,0,0,0,1,6.5,5.31,5.31,0,0,0,4.9,4.9,5.31,5.31,0,0,0,6.5,1,5.31,5.31,0,0,0,8.1,4.9,5.31,5.31,0,0,0,12,6.5,5.46,5.46,0,0,0,6.5,12Z\"/>\n",
       "  </svg>\n",
       "    </button>\n",
       "    <script>\n",
       "      (() => {\n",
       "      const buttonEl =\n",
       "        document.querySelector('#id_8600711f-962b-4400-9ad3-bccddb263824 button.colab-df-generate');\n",
       "      buttonEl.style.display =\n",
       "        google.colab.kernel.accessAllowed ? 'block' : 'none';\n",
       "\n",
       "      buttonEl.onclick = () => {\n",
       "        google.colab.notebook.generateWithVariable('features_df');\n",
       "      }\n",
       "      })();\n",
       "    </script>\n",
       "  </div>\n",
       "\n",
       "    </div>\n",
       "  </div>\n"
      ],
      "text/plain": [
       "      Mushrooms  Grazer  Nocturnal  Ground  Vertebrate  Herptile  \\\n",
       "A1          0.0     0.0        1.0     1.0         0.0       0.0   \n",
       "A2          0.0     0.0        1.0     1.0         0.0       0.0   \n",
       "A3          0.0     0.0        1.0     1.0         0.0       0.0   \n",
       "A4          0.0     0.0        1.0     0.0         0.0       0.0   \n",
       "A77         0.0     0.0        1.0     0.0         0.0       1.0   \n",
       "...         ...     ...        ...     ...         ...       ...   \n",
       "R75         0.0     0.0        0.0     0.0         0.0       1.0   \n",
       "R76         0.0     0.0        0.0     0.0         0.0       1.0   \n",
       "R241        0.0     0.0        0.0     1.0         0.0       1.0   \n",
       "R79         0.0     0.0        0.0     1.0         0.0       1.0   \n",
       "R137        0.0     0.0        0.0     1.0         0.0       0.0   \n",
       "\n",
       "      Brooks.springs.small_rivers  Mosses.Lichens  Invert  Small_Mam  ...  \\\n",
       "A1                            1.0             0.0     1.0        0.0  ...   \n",
       "A2                            1.0             0.0     1.0        0.0  ...   \n",
       "A3                            1.0             0.0     1.0        0.0  ...   \n",
       "A4                            1.0             0.0     1.0        0.0  ...   \n",
       "A77                           0.0             0.0     1.0        0.0  ...   \n",
       "...                           ...             ...     ...        ...  ...   \n",
       "R75                           0.0             0.0     0.0        1.0  ...   \n",
       "R76                           0.0             0.0     0.0        1.0  ...   \n",
       "R241                          0.0             0.0     0.0        1.0  ...   \n",
       "R79                           0.0             0.0     1.0        1.0  ...   \n",
       "R137                          0.0             0.0     1.0        0.0  ...   \n",
       "\n",
       "      Vegitative  Diurnal  Large_Mam  Tree_hole.fissure_in_the_bark  \\\n",
       "A1           0.0      0.0        0.0                            0.0   \n",
       "A2           0.0      0.0        0.0                            0.0   \n",
       "A3           0.0      0.0        0.0                            0.0   \n",
       "A4           0.0      0.0        0.0                            0.0   \n",
       "A77          0.0      0.0        0.0                            0.0   \n",
       "...          ...      ...        ...                            ...   \n",
       "R75          0.0      1.0        0.0                            0.0   \n",
       "R76          0.0      1.0        0.0                            0.0   \n",
       "R241         0.0      1.0        0.0                            0.0   \n",
       "R79          0.0      1.0        0.0                            0.0   \n",
       "R137         0.0      1.0        0.0                            0.0   \n",
       "\n",
       "      Puddles.ponds.pools.small_lakes  Arithmic  Lodge  Class  Order  Family  \n",
       "A1                                1.0       0.0    0.0    0.0    1.0     6.0  \n",
       "A2                                1.0       0.0    0.0    0.0    1.0     6.0  \n",
       "A3                                0.0       0.0    0.0    0.0    1.0     6.0  \n",
       "A4                                1.0       0.0    0.0    0.0    1.0     6.0  \n",
       "A77                               0.0       0.0    0.0    0.0    5.0    80.0  \n",
       "...                               ...       ...    ...    ...    ...     ...  \n",
       "R75                               0.0       0.0    0.0    3.0   26.0    29.0  \n",
       "R76                               0.0       0.0    0.0    3.0   26.0    29.0  \n",
       "R241                              0.0       0.0    0.0    3.0   26.0    29.0  \n",
       "R79                               0.0       0.0    0.0    3.0   26.0    29.0  \n",
       "R137                              0.0       0.0    0.0    3.0   26.0    56.0  \n",
       "\n",
       "[1092 rows x 38 columns]"
      ]
     },
     "execution_count": 24,
     "metadata": {},
     "output_type": "execute_result"
    }
   ],
   "source": [
    "\n",
    "features_df"
   ]
  },
  {
   "cell_type": "markdown",
   "id": "9cb08283-c9df-4db4-bf47-dfb14d6fb546",
   "metadata": {
    "id": "9cb08283-c9df-4db4-bf47-dfb14d6fb546"
   },
   "source": [
    "## Creating DGL graph"
   ]
  },
  {
   "cell_type": "code",
   "execution_count": 25,
   "id": "d0f3b6f9-5707-4620-b60e-eac842c3a20f",
   "metadata": {
    "executionInfo": {
     "elapsed": 19,
     "status": "ok",
     "timestamp": 1747027701779,
     "user": {
      "displayName": "Jade AFFOLABI",
      "userId": "17879023831446420678"
     },
     "user_tz": -120
    },
    "id": "d0f3b6f9-5707-4620-b60e-eac842c3a20f",
    "scrolled": true
   },
   "outputs": [],
   "source": [
    "dgl_node_IDs = {species : index for index, species in enumerate(features_df.index)}"
   ]
  },
  {
   "cell_type": "code",
   "execution_count": 26,
   "id": "onFy5FD-KEqF",
   "metadata": {
    "executionInfo": {
     "elapsed": 5,
     "status": "ok",
     "timestamp": 1747027702159,
     "user": {
      "displayName": "Jade AFFOLABI",
      "userId": "17879023831446420678"
     },
     "user_tz": -120
    },
    "id": "onFy5FD-KEqF"
   },
   "outputs": [],
   "source": [
    "dgl_node_2_species = {index : species for index, species in enumerate(features_df.index)}"
   ]
  },
  {
   "cell_type": "code",
   "execution_count": 27,
   "id": "02a95c8b-68fb-456c-a85b-547863a5877b",
   "metadata": {
    "executionInfo": {
     "elapsed": 148,
     "status": "ok",
     "timestamp": 1747027702408,
     "user": {
      "displayName": "Jade AFFOLABI",
      "userId": "17879023831446420678"
     },
     "user_tz": -120
    },
    "id": "02a95c8b-68fb-456c-a85b-547863a5877b",
    "scrolled": true
   },
   "outputs": [],
   "source": [
    "source_nodes = []\n",
    "targert_nodes = []\n",
    "for edge in new_edge_list:\n",
    "    source_nodes.append(dgl_node_IDs[edge[0]])\n",
    "    targert_nodes.append(dgl_node_IDs[edge[1]])\n",
    "source_nodes_tensor = torch.tensor(source_nodes)\n",
    "targert_nodes_tensor = torch.tensor(targert_nodes)"
   ]
  },
  {
   "cell_type": "code",
   "execution_count": 28,
   "id": "ec46025f-8e6d-40ec-9937-8d799e7c1c81",
   "metadata": {
    "executionInfo": {
     "elapsed": 36,
     "status": "ok",
     "timestamp": 1747027702472,
     "user": {
      "displayName": "Jade AFFOLABI",
      "userId": "17879023831446420678"
     },
     "user_tz": -120
    },
    "id": "ec46025f-8e6d-40ec-9937-8d799e7c1c81",
    "scrolled": true
   },
   "outputs": [],
   "source": [
    "trophic_graph = dgl.graph((source_nodes_tensor, targert_nodes_tensor))\n",
    "trophic_graph.ndata['feat'] = torch.tensor(features_df.values, dtype=torch.float32)"
   ]
  },
  {
   "cell_type": "markdown",
   "id": "84c3aa50-850c-4332-8b43-81eaddb6fe93",
   "metadata": {
    "id": "84c3aa50-850c-4332-8b43-81eaddb6fe93"
   },
   "source": [
    "## Link Prediction attempt"
   ]
  },
  {
   "cell_type": "markdown",
   "id": "ac65e2f4-4220-4e33-aa60-2eaa539089b8",
   "metadata": {
    "id": "ac65e2f4-4220-4e33-aa60-2eaa539089b8"
   },
   "source": [
    "> ### Training & Test sets"
   ]
  },
  {
   "cell_type": "code",
   "execution_count": 29,
   "id": "ee85c0d4-c698-4b24-8b05-43523275bc1d",
   "metadata": {
    "executionInfo": {
     "elapsed": 329,
     "status": "ok",
     "timestamp": 1747027704075,
     "user": {
      "displayName": "Jade AFFOLABI",
      "userId": "17879023831446420678"
     },
     "user_tz": -120
    },
    "id": "ee85c0d4-c698-4b24-8b05-43523275bc1d"
   },
   "outputs": [],
   "source": [
    "src, dst = trophic_graph.edges() # src = source, dst = destination\n",
    "num_nodes = trophic_graph.num_nodes()\n",
    "edge_ids = np.arange(trophic_graph.num_edges())\n",
    "train_sample, test_sample = train_test_split(edge_ids, test_size=0.1,\n",
    "                                             shuffle=True, random_state=42)\n",
    "train_sample, val_sample = train_test_split(train_sample, test_size=0.2,\n",
    "                                            shuffle=True, random_state=42)\n",
    "# Positive edges sampling\n",
    "pos_test_src, pos_test_dst = src[test_sample], dst[test_sample]\n",
    "pos_val_src, pos_val_dst = src[val_sample], dst[val_sample]\n",
    "pos_train_src, pos_train_dst = src[train_sample], dst[train_sample]\n",
    "\n",
    "# Negative edges sampling\n",
    "coo_mat = sparse.coo_matrix((np.ones(len(src)), (src.numpy(), dst.numpy())),\n",
    "                        shape=(num_nodes, num_nodes))\n",
    "neg_adj = 1 - coo_mat.todense() - np.eye(num_nodes)\n",
    "neg_src, neg_dst = np.where(neg_adj != 0)\n",
    "\n",
    "neg_edge_ids = np.arange(len(neg_src))\n",
    "neg_train_sample, neg_test_sample = train_test_split(neg_edge_ids, test_size=0.1,\n",
    "                                             shuffle=True, random_state=42)\n",
    "neg_train_sample, neg_val_sample = train_test_split(neg_train_sample, test_size=0.2,\n",
    "                                            shuffle=True, random_state=42)\n",
    "\n",
    "neg_test_src, neg_test_dst = neg_src[neg_test_sample], neg_dst[neg_test_sample]\n",
    "neg_val_src, neg_val_dst = neg_src[neg_val_sample], neg_dst[neg_val_sample]\n",
    "neg_train_src, neg_train_dst = neg_src[neg_train_sample], neg_dst[neg_train_sample]\n",
    "\n",
    "train_graph = dgl.remove_edges(trophic_graph, np.concatenate((test_sample, val_sample)))\n",
    "test_graph = dgl.remove_edges(trophic_graph, np.concatenate((train_sample, val_sample)))\n",
    "val_graph = dgl.remove_edges(trophic_graph, np.concatenate((train_sample, test_sample)))"
   ]
  },
  {
   "cell_type": "markdown",
   "id": "a519043b-f29c-4972-8451-86e72d495304",
   "metadata": {
    "id": "a519043b-f29c-4972-8451-86e72d495304"
   },
   "source": [
    ">### Positive & Negative graphs"
   ]
  },
  {
   "cell_type": "code",
   "execution_count": 30,
   "id": "b9bc93d4-006e-49ed-8503-76cf3a0e5ecf",
   "metadata": {
    "executionInfo": {
     "elapsed": 15,
     "status": "ok",
     "timestamp": 1747027704655,
     "user": {
      "displayName": "Jade AFFOLABI",
      "userId": "17879023831446420678"
     },
     "user_tz": -120
    },
    "id": "b9bc93d4-006e-49ed-8503-76cf3a0e5ecf"
   },
   "outputs": [],
   "source": [
    "train_pos_graph = dgl.graph((pos_train_src, pos_train_dst), num_nodes=num_nodes)\n",
    "train_neg_graph = dgl.graph((neg_train_src, neg_train_dst), num_nodes=num_nodes)\n",
    "\n",
    "val_pos_graph = dgl.graph((pos_val_src, pos_val_dst), num_nodes=num_nodes)\n",
    "val_neg_graph = dgl.graph((neg_val_src, neg_val_dst), num_nodes=num_nodes)\n",
    "\n",
    "test_pos_graph = dgl.graph((pos_test_src, pos_test_dst), num_nodes=num_nodes)\n",
    "test_neg_graph = dgl.graph((neg_test_src, neg_test_dst), num_nodes=num_nodes)"
   ]
  },
  {
   "cell_type": "code",
   "execution_count": 31,
   "id": "aa47c3a5-89bf-47a0-980e-9a6d10797c0f",
   "metadata": {
    "executionInfo": {
     "elapsed": 26,
     "status": "ok",
     "timestamp": 1747027705277,
     "user": {
      "displayName": "Jade AFFOLABI",
      "userId": "17879023831446420678"
     },
     "user_tz": -120
    },
    "id": "aa47c3a5-89bf-47a0-980e-9a6d10797c0f"
   },
   "outputs": [],
   "source": [
    "\n",
    "class Dataloader_pos_neg_graph():\n",
    "    def __init__(self, pos_g, neg_g, batch_size):\n",
    "        self.pos_graph = pos_g\n",
    "        self.pos_num_edges = pos_g.num_edges()\n",
    "        self.neg_num_edges = neg_g.num_edges()\n",
    "        self.neg_graph = neg_g\n",
    "        self.num_batches = pos_g.num_edges()//batch_size\n",
    "\n",
    "    def __iter__(self):\n",
    "        for pos_indices, neg_indices in zip(torch.randperm(self.pos_num_edges).chunk(self.num_batches),\n",
    "                                            torch.randperm(self.neg_num_edges).chunk(self.num_batches)):\n",
    "            yield self.pos_graph.edge_subgraph(pos_indices), self.neg_graph.edge_subgraph(neg_indices)"
   ]
  },
  {
   "cell_type": "markdown",
   "id": "3b3bc065-7d32-466e-b6f5-5f78a40c2c48",
   "metadata": {
    "id": "3b3bc065-7d32-466e-b6f5-5f78a40c2c48"
   },
   "source": [
    ">### GraphSAGE model"
   ]
  },
  {
   "cell_type": "code",
   "execution_count": 32,
   "id": "dd3bbcc8-2089-42bb-9ab7-50b6fa215f0e",
   "metadata": {
    "executionInfo": {
     "elapsed": 24,
     "status": "ok",
     "timestamp": 1747027707082,
     "user": {
      "displayName": "Jade AFFOLABI",
      "userId": "17879023831446420678"
     },
     "user_tz": -120
    },
    "id": "dd3bbcc8-2089-42bb-9ab7-50b6fa215f0e"
   },
   "outputs": [],
   "source": [
    "from dgl.nn import SAGEConv, GraphConv, GATConv\n",
    "import dgl.function as fn\n",
    "\n",
    "class GraphSAGE(nn.Module):\n",
    "     def __init__(self, in_feats, h_feats):\n",
    "        super(GraphSAGE, self).__init__()\n",
    "        self.conv1 = SAGEConv(in_feats, h_feats, \"mean\")\n",
    "        self.conv2 = SAGEConv(h_feats, h_feats, \"mean\")\n",
    "        self.drop = nn.Dropout(0.2)\n",
    "\n",
    "     def forward(self, g, in_feat):\n",
    "        h = self.conv1(g, in_feat)\n",
    "        h = F.relu(h)\n",
    "        h = self.drop(h)\n",
    "        h = self.conv2(g, h)\n",
    "        return h\n",
    "\n",
    "\n",
    "class GCN(nn.Module):\n",
    "     def __init__(self, in_feats, h_feats):\n",
    "        super(GCN, self).__init__()\n",
    "        self.conv1 = GraphConv(in_feats, h_feats)\n",
    "        self.conv2 = GraphConv(h_feats, h_feats)\n",
    "\n",
    "     def forward(self, g, in_feat):\n",
    "        h = self.conv1(g, in_feat)\n",
    "        h = F.relu(h)\n",
    "        h = self.conv2(g, h)\n",
    "        return h\n",
    "\n",
    "class GAT(nn.Module):\n",
    "     def __init__(self, in_feats, h_feats):\n",
    "        super(GAT, self).__init__()\n",
    "        self.conv1 = GATConv(in_feats, h_feats, num_heads=1)\n",
    "        self.conv2 = GATConv(h_feats, h_feats, num_heads=1)\n",
    "\n",
    "     def forward(self, g, in_feat):\n",
    "        h = self.conv1(g, in_feat)\n",
    "        h = F.relu(h)\n",
    "        h = self.conv2(g, h)\n",
    "        return h\n",
    "\n",
    "\n",
    "class DotPredictor(nn.Module):\n",
    "    def forward(self, g, h):\n",
    "        with g.local_scope():\n",
    "            g.ndata['h'] = h\n",
    "            g.apply_edges(fn.u_dot_v(\"h\", \"h\", \"score\"))\n",
    "            #u_dot_v returns a 1-element vector for each edge so you need to squeeze it.\n",
    "            return g.edata[\"score\"][:, 0]\n",
    "\n",
    "class MLPPredictor(nn.Module):\n",
    "    def __init__(self, h_feats):\n",
    "        super().__init__()\n",
    "        self.W1 = nn.Linear(h_feats * 2, 128)\n",
    "        self.W2 = nn.Linear(128, 64)\n",
    "        self.W3 = nn.Linear(64, 1)\n",
    "\n",
    "    def forward_linear(self, h):\n",
    "      h = F.relu(self.W1(h))\n",
    "      h = F.relu(self.W2(h))\n",
    "      score = self.W3(h)\n",
    "      return score\n",
    "\n",
    "    def apply_edges(self, edges):\n",
    "        h = torch.cat([edges.src[\"h\"], edges.dst[\"h\"]], 1)\n",
    "        return {\"score\": self.forward_linear(h).squeeze(1)}\n",
    "\n",
    "    def forward(self, g, h):\n",
    "        with g.local_scope():\n",
    "            g.ndata[\"h\"] = h\n",
    "            g.apply_edges(self.apply_edges)\n",
    "            return g.edata[\"score\"]"
   ]
  },
  {
   "cell_type": "code",
   "execution_count": 33,
   "id": "Nnw0n6WPnGs9",
   "metadata": {
    "executionInfo": {
     "elapsed": 21,
     "status": "ok",
     "timestamp": 1747027708323,
     "user": {
      "displayName": "Jade AFFOLABI",
      "userId": "17879023831446420678"
     },
     "user_tz": -120
    },
    "id": "Nnw0n6WPnGs9"
   },
   "outputs": [],
   "source": [
    "def suppress_zero_degree(batch):\n",
    "    graphs = dgl.unbatch(batch)\n",
    "    new_graphs = [dgl.add_self_loop(g) for g in graphs]\n",
    "    return dgl.batch(new_graphs)"
   ]
  },
  {
   "cell_type": "code",
   "execution_count": 34,
   "id": "1adfa1da-a8d2-4749-a8bd-e02f21d0ca17",
   "metadata": {
    "executionInfo": {
     "elapsed": 17,
     "status": "ok",
     "timestamp": 1747027709289,
     "user": {
      "displayName": "Jade AFFOLABI",
      "userId": "17879023831446420678"
     },
     "user_tz": -120
    },
    "id": "1adfa1da-a8d2-4749-a8bd-e02f21d0ca17"
   },
   "outputs": [],
   "source": [
    "\n",
    "def compute_loss(pos_score, neg_score, device):\n",
    "    scores = torch.cat([pos_score, neg_score])\n",
    "    labels = torch.cat([torch.ones(pos_score.shape[0]),\n",
    "                        torch.zeros(neg_score.shape[0])]).squeeze()\n",
    "    labels = labels.to(device)\n",
    "    return F.binary_cross_entropy_with_logits(scores, labels)\n",
    "\n",
    "def compute_auc(pos_score, neg_score):\n",
    "    scores =  torch.cat([pos_score, neg_score]).numpy()\n",
    "    labels = torch.cat([torch.ones(pos_score.shape[0]),\n",
    "                        torch.zeros(neg_score.shape[0])]).numpy()\n",
    "    return roc_auc_score(labels, scores)"
   ]
  },
  {
   "cell_type": "code",
   "execution_count": 37,
   "id": "OgOwG84E8O3W",
   "metadata": {
    "executionInfo": {
     "elapsed": 4,
     "status": "ok",
     "timestamp": 1747027719524,
     "user": {
      "displayName": "Jade AFFOLABI",
      "userId": "17879023831446420678"
     },
     "user_tz": -120
    },
    "id": "OgOwG84E8O3W"
   },
   "outputs": [],
   "source": [
    "def plot_loss(loss_history):\n",
    "    plt.plot(loss_history[\"Train\"][2:], label=\"Train loss\")\n",
    "    plt.plot(loss_history[\"Val\"][2:], label=\"Val loss\")\n",
    "    plt.xlabel(\"Epoch\")\n",
    "    plt.ylabel(\"BCE Loss\")\n",
    "    plt.grid()\n",
    "    plt.legend()\n",
    "    plt.show()"
   ]
  },
  {
   "cell_type": "code",
   "execution_count": 74,
   "id": "1-vOmcYh6b5Q",
   "metadata": {
    "executionInfo": {
     "elapsed": 11,
     "status": "ok",
     "timestamp": 1747031996097,
     "user": {
      "displayName": "Jade AFFOLABI",
      "userId": "17879023831446420678"
     },
     "user_tz": -120
    },
    "id": "1-vOmcYh6b5Q"
   },
   "outputs": [],
   "source": [
    "def topk_prediction_errors(pos_graph, neg_graph, model, predictor, device, k=10):\n",
    "    # Predictions\n",
    "    pos_pred = predictor(pos_graph.to(device), h)\n",
    "    neg_pred = predictor(neg_graph.to(device), h)\n",
    "\n",
    "    scores = torch.cat([pos_pred.cpu(), neg_pred.cpu()])\n",
    "    labels = torch.cat([\n",
    "        torch.ones_like(pos_pred.cpu()),\n",
    "        torch.zeros_like(neg_pred.cpu())\n",
    "    ])\n",
    "\n",
    "    pos_src, pos_dst = pos_graph.edges()\n",
    "    neg_src, neg_dst = neg_graph.edges()\n",
    "    src = torch.cat([pos_src, neg_src])\n",
    "    dst = torch.cat([pos_dst, neg_dst])\n",
    "\n",
    "    sorted_indices = np.argsort(np.abs(scores.numpy()))[::-1]\n",
    "    fp = []\n",
    "    fn = []\n",
    "\n",
    "    for idx in sorted_indices:\n",
    "        if labels[idx] == 0 and len(fp) < 10:\n",
    "            fp.append((idx, scores[idx], labels[idx]))  # false positive\n",
    "        elif labels[idx] == 1 and len(fn) < 10:\n",
    "            fn.append((idx, scores[idx], labels[idx]))  # false negative\n",
    "        if len(fp) >= 10 and len(fn) >= 10:\n",
    "            break\n",
    "    print(\"\\nTop 10 sur les liens inexistants:\")\n",
    "    for i, score, label in fp:\n",
    "        u = int(src[i])\n",
    "        v = int(dst[i])\n",
    "        print(f\"Lien ({dgl_node_2_species[u]}, {dgl_node_2_species[v]}) \\n Score: {score:.4f}, True Label: {label}\")\n",
    "        print(\"-\" * 40)\n",
    "\n",
    "\n",
    "    print(\"\\nTop 10 sur les liens qui existent:\")\n",
    "    for i, score, label in fn:\n",
    "        u = int(src[i])\n",
    "        v = int(dst[i])\n",
    "        print(f\"Lien ({dgl_node_2_species[u]}, {dgl_node_2_species[v]}) \\n Score: {score:.4f}, True Label: {label}\")\n",
    "        print(\"-\" * 40)\n"
   ]
  },
  {
   "cell_type": "code",
   "execution_count": 39,
   "id": "010e776d-a961-47e7-bb1a-695f8ebad3c2",
   "metadata": {
    "colab": {
     "base_uri": "https://localhost:8080/",
     "height": 1000
    },
    "executionInfo": {
     "elapsed": 1632265,
     "status": "error",
     "timestamp": 1747030142703,
     "user": {
      "displayName": "Jade AFFOLABI",
      "userId": "17879023831446420678"
     },
     "user_tz": -120
    },
    "id": "010e776d-a961-47e7-bb1a-695f8ebad3c2",
    "outputId": "14c8ff6a-90ed-4dd0-9a93-d98b78857684"
   },
   "outputs": [
    {
     "name": "stdout",
     "output_type": "stream",
     "text": [
      "In epoch 0, loss: 3.613\n",
      "In epoch 5, loss: 0.512\n",
      "In epoch 10, loss: 0.338\n",
      "In epoch 15, loss: 0.330\n",
      "In epoch 20, loss: 0.333\n",
      "In epoch 25, loss: 0.325\n",
      "In epoch 30, loss: 0.320\n",
      "In epoch 35, loss: 0.316\n",
      "In epoch 40, loss: 0.309\n",
      "In epoch 45, loss: 0.308\n",
      "In epoch 50, loss: 0.305\n",
      "In epoch 55, loss: 0.301\n",
      "In epoch 60, loss: 0.306\n",
      "In epoch 65, loss: 0.311\n",
      "In epoch 70, loss: 0.296\n",
      "In epoch 75, loss: 0.308\n",
      "In epoch 80, loss: 0.291\n",
      "In epoch 85, loss: 0.276\n",
      "In epoch 90, loss: 0.270\n",
      "In epoch 95, loss: 0.263\n",
      "In epoch 100, loss: 0.260\n",
      "In epoch 105, loss: 0.251\n",
      "In epoch 110, loss: 0.244\n",
      "In epoch 115, loss: 0.238\n",
      "In epoch 120, loss: 0.232\n",
      "In epoch 125, loss: 0.226\n",
      "In epoch 130, loss: 0.226\n",
      "In epoch 135, loss: 0.218\n",
      "In epoch 140, loss: 0.213\n",
      "In epoch 145, loss: 0.212\n",
      "In epoch 150, loss: 0.208\n",
      "In epoch 155, loss: 0.207\n",
      "In epoch 160, loss: 0.204\n",
      "In epoch 165, loss: 0.202\n",
      "In epoch 170, loss: 0.204\n",
      "In epoch 175, loss: 0.202\n",
      "In epoch 180, loss: 0.202\n",
      "In epoch 185, loss: 0.197\n",
      "In epoch 190, loss: 0.194\n",
      "In epoch 195, loss: 0.196\n",
      "In epoch 200, loss: 0.195\n",
      "In epoch 205, loss: 0.196\n",
      "In epoch 210, loss: 0.194\n",
      "In epoch 215, loss: 0.200\n",
      "In epoch 220, loss: 0.193\n",
      "In epoch 225, loss: 0.192\n",
      "In epoch 230, loss: 0.191\n",
      "In epoch 235, loss: 0.189\n",
      "In epoch 240, loss: 0.191\n",
      "In epoch 245, loss: 0.191\n",
      "In epoch 250, loss: 0.194\n",
      "In epoch 255, loss: 0.188\n",
      "In epoch 260, loss: 0.190\n",
      "In epoch 265, loss: 0.188\n",
      "In epoch 270, loss: 0.187\n",
      "In epoch 275, loss: 0.188\n",
      "In epoch 280, loss: 0.186\n",
      "In epoch 285, loss: 0.186\n",
      "In epoch 290, loss: 0.191\n",
      "In epoch 295, loss: 0.192\n"
     ]
    },
    {
     "data": {
      "image/png": "[encoded data removed]",
      "text/plain": [
       "<Figure size 640x480 with 1 Axes>"
      ]
     },
     "metadata": {},
     "output_type": "display_data"
    },
    {
     "name": "stdout",
     "output_type": "stream",
     "text": [
      "Test evaluation\n",
      "AUC 0.9133457720465346\n",
      "Top 10 False Positives:\n"
     ]
    },
    {
     "ename": "KeyError",
     "evalue": "tensor(756)",
     "output_type": "error",
     "traceback": [
      "\u001b[0;31m---------------------------------------------------------------------------\u001b[0m",
      "\u001b[0;31mKeyError\u001b[0m                                  Traceback (most recent call last)",
      "\u001b[0;32m<ipython-input-39-74297f0880d4>\u001b[0m in \u001b[0;36m<cell line: 0>\u001b[0;34m()\u001b[0m\n\u001b[1;32m     51\u001b[0m \u001b[0;32mwith\u001b[0m \u001b[0mtorch\u001b[0m\u001b[0;34m.\u001b[0m\u001b[0mno_grad\u001b[0m\u001b[0;34m(\u001b[0m\u001b[0;34m)\u001b[0m\u001b[0;34m:\u001b[0m\u001b[0;34m\u001b[0m\u001b[0;34m\u001b[0m\u001b[0m\n\u001b[1;32m     52\u001b[0m   \u001b[0mh\u001b[0m \u001b[0;34m=\u001b[0m \u001b[0mmodel\u001b[0m\u001b[0;34m(\u001b[0m\u001b[0mtest_graph\u001b[0m\u001b[0;34m,\u001b[0m \u001b[0mtest_graph\u001b[0m\u001b[0;34m.\u001b[0m\u001b[0mndata\u001b[0m\u001b[0;34m[\u001b[0m\u001b[0;34m\"feat\"\u001b[0m\u001b[0;34m]\u001b[0m\u001b[0;34m)\u001b[0m\u001b[0;34m\u001b[0m\u001b[0;34m\u001b[0m\u001b[0m\n\u001b[0;32m---> 53\u001b[0;31m   \u001b[0mtopk_prediction_errors\u001b[0m\u001b[0;34m(\u001b[0m\u001b[0mtest_pos_graph\u001b[0m\u001b[0;34m,\u001b[0m \u001b[0mtest_neg_graph\u001b[0m\u001b[0;34m,\u001b[0m \u001b[0mh\u001b[0m\u001b[0;34m,\u001b[0m \u001b[0mpredictor\u001b[0m\u001b[0;34m,\u001b[0m \u001b[0mdevice\u001b[0m\u001b[0;34m)\u001b[0m\u001b[0;34m\u001b[0m\u001b[0;34m\u001b[0m\u001b[0m\n\u001b[0m",
      "\u001b[0;32m<ipython-input-36-f0e0de87a00c>\u001b[0m in \u001b[0;36mtopk_prediction_errors\u001b[0;34m(pos_graph, neg_graph, model, predictor, device, k)\u001b[0m\n\u001b[1;32m     30\u001b[0m         \u001b[0mu\u001b[0m \u001b[0;34m=\u001b[0m \u001b[0msrc\u001b[0m\u001b[0;34m[\u001b[0m\u001b[0mi\u001b[0m\u001b[0;34m]\u001b[0m\u001b[0;34m\u001b[0m\u001b[0;34m\u001b[0m\u001b[0m\n\u001b[1;32m     31\u001b[0m         \u001b[0mv\u001b[0m \u001b[0;34m=\u001b[0m \u001b[0mdst\u001b[0m\u001b[0;34m[\u001b[0m\u001b[0mi\u001b[0m\u001b[0;34m]\u001b[0m\u001b[0;34m\u001b[0m\u001b[0;34m\u001b[0m\u001b[0m\n\u001b[0;32m---> 32\u001b[0;31m         \u001b[0mprint\u001b[0m\u001b[0;34m(\u001b[0m\u001b[0;34mf\"Lien ({dgl_node_2_species[u]}, {dgl_node_2_species[v]}) \\| Score: {score:.4f} \\| True Label: {label}\"\u001b[0m\u001b[0;34m)\u001b[0m\u001b[0;34m\u001b[0m\u001b[0;34m\u001b[0m\u001b[0m\n\u001b[0m\u001b[1;32m     33\u001b[0m \u001b[0;34m\u001b[0m\u001b[0m\n\u001b[1;32m     34\u001b[0m \u001b[0;34m\u001b[0m\u001b[0m\n",
      "\u001b[0;31mKeyError\u001b[0m: tensor(756)"
     ]
    }
   ],
   "source": [
    "device = torch.device('cuda' if torch.cuda.is_available() else 'cpu')\n",
    "h_feats = 24\n",
    "model = GraphSAGE(train_graph.ndata[\"feat\"].shape[1], h_feats).to(device)\n",
    "predictor = MLPPredictor(h_feats).to(device)\n",
    "#predictor = DotPredictor().to(device)\n",
    "optimizer = torch.optim.Adam(itertools.chain(model.parameters(), predictor.parameters()),\n",
    "                             lr=0.01)\n",
    "EPOCHS = 300\n",
    "BATCH_SIZE = 512\n",
    "loss_history = {'Train':[], 'Val':[]}\n",
    "train_graph = train_graph.to(device)\n",
    "test_graph = test_graph.to(device)\n",
    "val_graph = val_graph.to(device)\n",
    "for epoch in range(EPOCHS):\n",
    "    model.train()\n",
    "    # Forward\n",
    "    h = model(train_graph, train_graph.ndata[\"feat\"])\n",
    "    pos_pred = predictor(train_pos_graph.to(device), h)\n",
    "    neg_pred = predictor(train_neg_graph.to(device), h)\n",
    "    loss = compute_loss(pos_pred, neg_pred, device)\n",
    "    # Backward\n",
    "    optimizer.zero_grad()\n",
    "    loss.backward()\n",
    "    optimizer.step()\n",
    "    loss_history['Train'].append(loss.item())\n",
    "\n",
    "    # Validation\n",
    "    model.eval()\n",
    "    with torch.no_grad():\n",
    "      h = model(val_graph, val_graph.ndata[\"feat\"])\n",
    "      pos_pred = predictor(val_pos_graph.to(device), h)\n",
    "      neg_pred = predictor(val_neg_graph.to(device), h)\n",
    "      loss = compute_loss(pos_pred, neg_pred, device)\n",
    "      loss_history['Val'].append(loss.item())\n",
    "\n",
    "    if epoch%5 == 0:\n",
    "        print(f\"In epoch {epoch}, loss: {loss:.3f}\")\n",
    "\n",
    "plot_loss(loss_history)\n",
    "\n",
    "# Prediction\n",
    "model.eval()\n",
    "with torch.no_grad():\n",
    "    h = model(test_graph, test_graph.ndata[\"feat\"])\n",
    "    pos_pred = predictor(test_pos_graph.to(device), h)\n",
    "    neg_pred = predictor(test_neg_graph.to(device), h)\n",
    "    print(\"Test evaluation\")\n",
    "    print(\"AUC\", compute_auc(pos_pred.cpu(), neg_pred.cpu()))\n"
   ]
  },
  {
   "cell_type": "code",
   "execution_count": 75,
   "id": "43uTk1gxHU6g",
   "metadata": {
    "colab": {
     "base_uri": "https://localhost:8080/"
    },
    "executionInfo": {
     "elapsed": 744,
     "status": "ok",
     "timestamp": 1747032000131,
     "user": {
      "displayName": "Jade AFFOLABI",
      "userId": "17879023831446420678"
     },
     "user_tz": -120
    },
    "id": "43uTk1gxHU6g",
    "outputId": "66056d29-aeff-463b-927e-31b943cec836"
   },
   "outputs": [
    {
     "name": "stdout",
     "output_type": "stream",
     "text": [
      "\n",
      "Top 10 sur les liens inexistants:\n",
      "Lien (M178, M295) \n",
      " Score: -39.6985, True Label: 0.0\n",
      "----------------------------------------\n",
      "Lien (M189, M295) \n",
      " Score: -36.8209, True Label: 0.0\n",
      "----------------------------------------\n",
      "Lien (M189, B143) \n",
      " Score: -36.7396, True Label: 0.0\n",
      "----------------------------------------\n",
      "Lien (M189, M114) \n",
      " Score: -36.5100, True Label: 0.0\n",
      "----------------------------------------\n",
      "Lien (R12, B143) \n",
      " Score: -36.2125, True Label: 0.0\n",
      "----------------------------------------\n",
      "Lien (M178, M79) \n",
      " Score: -35.2011, True Label: 0.0\n",
      "----------------------------------------\n",
      "Lien (M186, M114) \n",
      " Score: -34.2041, True Label: 0.0\n",
      "----------------------------------------\n",
      "Lien (A43, B143) \n",
      " Score: -33.5699, True Label: 0.0\n",
      "----------------------------------------\n",
      "Lien (M229, M30) \n",
      " Score: -32.8332, True Label: 0.0\n",
      "----------------------------------------\n",
      "Lien (M206, M260) \n",
      " Score: -32.7916, True Label: 0.0\n",
      "----------------------------------------\n",
      "\n",
      "Top 10 sur les liens qui existent:\n",
      "Lien (B259, M96) \n",
      " Score: -16.4795, True Label: 1.0\n",
      "----------------------------------------\n",
      "Lien (B259, B135) \n",
      " Score: -15.8950, True Label: 1.0\n",
      "----------------------------------------\n",
      "Lien (B259, B82) \n",
      " Score: -15.8013, True Label: 1.0\n",
      "----------------------------------------\n",
      "Lien (B259, B160) \n",
      " Score: -15.7394, True Label: 1.0\n",
      "----------------------------------------\n",
      "Lien (B95, R76) \n",
      " Score: -15.6693, True Label: 1.0\n",
      "----------------------------------------\n",
      "Lien (B259, B72) \n",
      " Score: -15.5285, True Label: 1.0\n",
      "----------------------------------------\n",
      "Lien (B259, M166) \n",
      " Score: -15.1104, True Label: 1.0\n",
      "----------------------------------------\n",
      "Lien (B259, B196) \n",
      " Score: -15.0935, True Label: 1.0\n",
      "----------------------------------------\n",
      "Lien (B259, B243) \n",
      " Score: -14.7231, True Label: 1.0\n",
      "----------------------------------------\n",
      "Lien (B259, B199) \n",
      " Score: -14.0030, True Label: 1.0\n",
      "----------------------------------------\n"
     ]
    }
   ],
   "source": [
    "model.eval()\n",
    "with torch.no_grad():\n",
    "  h = model(test_graph, test_graph.ndata[\"feat\"])\n",
    "  topk_prediction_errors(test_pos_graph, test_neg_graph, h, predictor, device)"
   ]
  },
  {
   "cell_type": "code",
   "execution_count": null,
   "id": "4ZookoDU6Ydx",
   "metadata": {
    "colab": {
     "base_uri": "https://localhost:8080/",
     "height": 1000
    },
    "executionInfo": {
     "elapsed": 2573696,
     "status": "ok",
     "timestamp": 1747003558636,
     "user": {
      "displayName": "Jade AFFOLABI",
      "userId": "17879023831446420678"
     },
     "user_tz": -120
    },
    "id": "4ZookoDU6Ydx",
    "outputId": "ffb19804-4528-47cb-afc8-d47ffbc13103"
   },
   "outputs": [
    {
     "name": "stdout",
     "output_type": "stream",
     "text": [
      "In epoch 0, loss: 2.735\n",
      "In epoch 5, loss: 0.550\n",
      "In epoch 10, loss: 0.331\n",
      "In epoch 15, loss: 0.328\n",
      "In epoch 20, loss: 0.333\n",
      "In epoch 25, loss: 0.327\n",
      "In epoch 30, loss: 0.329\n",
      "In epoch 35, loss: 0.324\n",
      "In epoch 40, loss: 0.323\n",
      "In epoch 45, loss: 0.319\n",
      "In epoch 50, loss: 0.317\n",
      "In epoch 55, loss: 0.312\n",
      "In epoch 60, loss: 0.308\n",
      "In epoch 65, loss: 0.303\n",
      "In epoch 70, loss: 0.304\n",
      "In epoch 75, loss: 0.301\n",
      "In epoch 80, loss: 0.295\n",
      "In epoch 85, loss: 0.299\n",
      "In epoch 90, loss: 0.291\n",
      "In epoch 95, loss: 0.290\n",
      "In epoch 100, loss: 0.280\n",
      "In epoch 105, loss: 0.281\n",
      "In epoch 110, loss: 0.265\n",
      "In epoch 115, loss: 0.266\n",
      "In epoch 120, loss: 0.253\n",
      "In epoch 125, loss: 0.248\n",
      "In epoch 130, loss: 0.239\n",
      "In epoch 135, loss: 0.233\n",
      "In epoch 140, loss: 0.232\n",
      "In epoch 145, loss: 0.231\n",
      "In epoch 150, loss: 0.223\n",
      "In epoch 155, loss: 0.220\n",
      "In epoch 160, loss: 0.217\n",
      "In epoch 165, loss: 0.213\n",
      "In epoch 170, loss: 0.217\n",
      "In epoch 175, loss: 0.212\n",
      "In epoch 180, loss: 0.212\n",
      "In epoch 185, loss: 0.208\n",
      "In epoch 190, loss: 0.208\n",
      "In epoch 195, loss: 0.207\n",
      "In epoch 200, loss: 0.200\n",
      "In epoch 205, loss: 0.199\n",
      "In epoch 210, loss: 0.198\n",
      "In epoch 215, loss: 0.199\n",
      "In epoch 220, loss: 0.195\n",
      "In epoch 225, loss: 0.198\n",
      "In epoch 230, loss: 0.194\n",
      "In epoch 235, loss: 0.194\n",
      "In epoch 240, loss: 0.193\n",
      "In epoch 245, loss: 0.195\n",
      "In epoch 250, loss: 0.193\n",
      "In epoch 255, loss: 0.193\n",
      "In epoch 260, loss: 0.192\n",
      "In epoch 265, loss: 0.192\n",
      "In epoch 270, loss: 0.190\n",
      "In epoch 275, loss: 0.190\n",
      "In epoch 280, loss: 0.188\n",
      "In epoch 285, loss: 0.198\n",
      "In epoch 290, loss: 0.199\n",
      "In epoch 295, loss: 0.193\n",
      "In epoch 300, loss: 0.190\n",
      "In epoch 305, loss: 0.190\n",
      "In epoch 310, loss: 0.194\n",
      "In epoch 315, loss: 0.192\n",
      "In epoch 320, loss: 0.195\n",
      "In epoch 325, loss: 0.194\n",
      "In epoch 330, loss: 0.188\n",
      "In epoch 335, loss: 0.185\n",
      "In epoch 340, loss: 0.191\n",
      "In epoch 345, loss: 0.197\n",
      "In epoch 350, loss: 0.200\n",
      "In epoch 355, loss: 0.191\n",
      "In epoch 360, loss: 0.196\n",
      "In epoch 365, loss: 0.193\n",
      "In epoch 370, loss: 0.190\n",
      "In epoch 375, loss: 0.193\n",
      "In epoch 380, loss: 0.192\n",
      "In epoch 385, loss: 0.195\n",
      "In epoch 390, loss: 0.196\n",
      "In epoch 395, loss: 0.194\n",
      "In epoch 400, loss: 0.191\n",
      "In epoch 405, loss: 0.190\n",
      "In epoch 410, loss: 0.192\n",
      "In epoch 415, loss: 0.193\n",
      "In epoch 420, loss: 0.191\n",
      "In epoch 425, loss: 0.195\n",
      "In epoch 430, loss: 0.199\n",
      "In epoch 435, loss: 0.207\n",
      "In epoch 440, loss: 0.200\n",
      "In epoch 445, loss: 0.196\n",
      "In epoch 450, loss: 0.197\n",
      "In epoch 455, loss: 0.194\n",
      "In epoch 460, loss: 0.195\n",
      "In epoch 465, loss: 0.190\n",
      "In epoch 470, loss: 0.205\n",
      "In epoch 475, loss: 0.197\n",
      "In epoch 480, loss: 0.189\n",
      "In epoch 485, loss: 0.195\n",
      "In epoch 490, loss: 0.196\n",
      "In epoch 495, loss: 0.196\n"
     ]
    },
    {
     "data": {
      "image/png": "[encoded data removed]",
      "text/plain": [
       "<Figure size 640x480 with 1 Axes>"
      ]
     },
     "metadata": {},
     "output_type": "display_data"
    },
    {
     "name": "stdout",
     "output_type": "stream",
     "text": [
      "Test evaluation\n",
      "AUC 0.9091145594642358\n",
      "Top 10 erreurs de prédiction :\n",
      "\n",
      "Erreur #1:\n",
      "Lien (M36, M98)\n",
      "Prédiction     = -70.4516\n",
      "Étiquette vraie = 0\n",
      "Erreur absolue = 70.4516\n",
      "Incertitude élevée\n",
      "----------------------------------------\n",
      "Erreur #2:\n",
      "Lien (M36, B16)\n",
      "Prédiction     = -69.7799\n",
      "Étiquette vraie = 0\n",
      "Erreur absolue = 69.7799\n",
      "Incertitude élevée\n",
      "----------------------------------------\n",
      "Erreur #3:\n",
      "Lien (M36, M113)\n",
      "Prédiction     = -66.2427\n",
      "Étiquette vraie = 0\n",
      "Erreur absolue = 66.2427\n",
      "Incertitude élevée\n",
      "----------------------------------------\n",
      "Erreur #4:\n",
      "Lien (M36, R152)\n",
      "Prédiction     = -65.4149\n",
      "Étiquette vraie = 0\n",
      "Erreur absolue = 65.4149\n",
      "Incertitude élevée\n",
      "----------------------------------------\n",
      "Erreur #5:\n",
      "Lien (M203, M59)\n",
      "Prédiction     = -63.6791\n",
      "Étiquette vraie = 0\n",
      "Erreur absolue = 63.6791\n",
      "Incertitude élevée\n",
      "----------------------------------------\n",
      "Erreur #6:\n",
      "Lien (M203, B247)\n",
      "Prédiction     = -63.4979\n",
      "Étiquette vraie = 0\n",
      "Erreur absolue = 63.4979\n",
      "Incertitude élevée\n",
      "----------------------------------------\n",
      "Erreur #7:\n",
      "Lien (M203, R145)\n",
      "Prédiction     = -63.4855\n",
      "Étiquette vraie = 0\n",
      "Erreur absolue = 63.4855\n",
      "Incertitude élevée\n",
      "----------------------------------------\n",
      "Erreur #8:\n",
      "Lien (M36, B19)\n",
      "Prédiction     = -63.1887\n",
      "Étiquette vraie = 0\n",
      "Erreur absolue = 63.1887\n",
      "Incertitude élevée\n",
      "----------------------------------------\n",
      "Erreur #9:\n",
      "Lien (M203, M110)\n",
      "Prédiction     = -63.0037\n",
      "Étiquette vraie = 0\n",
      "Erreur absolue = 63.0037\n",
      "Incertitude élevée\n",
      "----------------------------------------\n",
      "Erreur #10:\n",
      "Lien (M203, B114)\n",
      "Prédiction     = -62.7236\n",
      "Étiquette vraie = 0\n",
      "Erreur absolue = 62.7236\n",
      "Incertitude élevée\n",
      "----------------------------------------\n"
     ]
    }
   ],
   "source": [
    "device = torch.device('cuda' if torch.cuda.is_available() else 'cpu')\n",
    "h_feats = 24\n",
    "model = GraphSAGE(train_graph.ndata[\"feat\"].shape[1], h_feats).to(device)\n",
    "predictor = MLPPredictor(h_feats).to(device)\n",
    "#predictor = DotPredictor().to(device)\n",
    "optimizer = torch.optim.Adam(itertools.chain(model.parameters(), predictor.parameters()),\n",
    "                             lr=0.01)\n",
    "EPOCHS = 500\n",
    "BATCH_SIZE = 512\n",
    "loss_history = {'Train':[], 'Val':[]}\n",
    "train_graph = train_graph.to(device)\n",
    "test_graph = test_graph.to(device)\n",
    "val_graph = val_graph.to(device)\n",
    "for epoch in range(EPOCHS):\n",
    "    model.train()\n",
    "    # Forward\n",
    "    h = model(train_graph, train_graph.ndata[\"feat\"])\n",
    "    pos_pred = predictor(train_pos_graph.to(device), h)\n",
    "    neg_pred = predictor(train_neg_graph.to(device), h)\n",
    "    loss = compute_loss(pos_pred, neg_pred, device)\n",
    "    # Backward\n",
    "    optimizer.zero_grad()\n",
    "    loss.backward()\n",
    "    optimizer.step()\n",
    "    loss_history['Train'].append(loss.item())\n",
    "\n",
    "    # Validation\n",
    "    model.eval()\n",
    "    with torch.no_grad():\n",
    "      h = model(val_graph, val_graph.ndata[\"feat\"])\n",
    "      pos_pred = predictor(val_pos_graph.to(device), h)\n",
    "      neg_pred = predictor(val_neg_graph.to(device), h)\n",
    "      loss = compute_loss(pos_pred, neg_pred, device)\n",
    "      loss_history['Val'].append(loss.item())\n",
    "\n",
    "    if epoch%5 == 0:\n",
    "        print(f\"In epoch {epoch}, loss: {loss:.3f}\")\n",
    "\n",
    "plot_loss(loss_history)\n",
    "\n",
    "# Prediction\n",
    "model.eval()\n",
    "with torch.no_grad():\n",
    "    h = model(test_graph, test_graph.ndata[\"feat\"])\n",
    "    pos_pred = predictor(test_pos_graph.to(device), h)\n",
    "    neg_pred = predictor(test_neg_graph.to(device), h)\n",
    "    print(\"Test evaluation\")\n",
    "    print(\"AUC\", compute_auc(pos_pred.cpu(), neg_pred.cpu()))"
   ]
  },
  {
   "cell_type": "code",
   "execution_count": null,
   "id": "7a1d9808-12ae-4ce5-9bb8-47249aa96148",
   "metadata": {},
   "outputs": [],
   "source": [
    "model.eval()\n",
    "with torch.no_grad():\n",
    "  h = model(test_graph, test_graph.ndata[\"feat\"])\n",
    "  topk_prediction_errors(test_pos_graph, test_neg_graph, h, predictor, device)"
   ]
  },
  {
   "cell_type": "code",
   "execution_count": null,
   "id": "mrgqzblrmQiU",
   "metadata": {
    "colab": {
     "base_uri": "https://localhost:8080/",
     "height": 1000
    },
    "executionInfo": {
     "elapsed": 21698,
     "status": "ok",
     "timestamp": 1746989628382,
     "user": {
      "displayName": "Jade AFFOLABI",
      "userId": "17879023831446420678"
     },
     "user_tz": -120
    },
    "id": "mrgqzblrmQiU",
    "outputId": "1147decc-afb7-4614-fc3a-f2a92ddcd9bb"
   },
   "outputs": [
    {
     "name": "stdout",
     "output_type": "stream",
     "text": [
      "In epoch 0, loss: 0.649\n",
      "In epoch 5, loss: 0.503\n",
      "In epoch 10, loss: 0.394\n",
      "In epoch 15, loss: 0.312\n",
      "In epoch 20, loss: 0.282\n",
      "In epoch 25, loss: 0.296\n",
      "In epoch 30, loss: 0.305\n",
      "In epoch 35, loss: 0.291\n",
      "In epoch 40, loss: 0.269\n",
      "In epoch 45, loss: 0.252\n",
      "In epoch 50, loss: 0.243\n",
      "In epoch 55, loss: 0.237\n",
      "In epoch 60, loss: 0.234\n",
      "In epoch 65, loss: 0.231\n",
      "In epoch 70, loss: 0.228\n",
      "In epoch 75, loss: 0.225\n",
      "In epoch 80, loss: 0.224\n",
      "In epoch 85, loss: 0.223\n",
      "In epoch 90, loss: 0.222\n",
      "In epoch 95, loss: 0.221\n",
      "In epoch 100, loss: 0.221\n",
      "In epoch 105, loss: 0.220\n",
      "In epoch 110, loss: 0.220\n",
      "In epoch 115, loss: 0.219\n",
      "In epoch 120, loss: 0.219\n",
      "In epoch 125, loss: 0.218\n",
      "In epoch 130, loss: 0.218\n",
      "In epoch 135, loss: 0.218\n",
      "In epoch 140, loss: 0.217\n",
      "In epoch 145, loss: 0.216\n",
      "In epoch 150, loss: 0.216\n",
      "In epoch 155, loss: 0.215\n",
      "In epoch 160, loss: 0.216\n",
      "In epoch 165, loss: 0.215\n",
      "In epoch 170, loss: 0.215\n",
      "In epoch 175, loss: 0.214\n",
      "In epoch 180, loss: 0.214\n",
      "In epoch 185, loss: 0.214\n",
      "In epoch 190, loss: 0.213\n",
      "In epoch 195, loss: 0.214\n",
      "In epoch 200, loss: 0.213\n",
      "In epoch 205, loss: 0.213\n",
      "In epoch 210, loss: 0.212\n",
      "In epoch 215, loss: 0.213\n",
      "In epoch 220, loss: 0.211\n",
      "In epoch 225, loss: 0.212\n",
      "In epoch 230, loss: 0.211\n",
      "In epoch 235, loss: 0.212\n",
      "In epoch 240, loss: 0.211\n",
      "In epoch 245, loss: 0.212\n",
      "In epoch 250, loss: 0.211\n",
      "In epoch 255, loss: 0.211\n",
      "In epoch 260, loss: 0.211\n",
      "In epoch 265, loss: 0.210\n",
      "In epoch 270, loss: 0.210\n",
      "In epoch 275, loss: 0.210\n",
      "In epoch 280, loss: 0.210\n",
      "In epoch 285, loss: 0.209\n",
      "In epoch 290, loss: 0.210\n",
      "In epoch 295, loss: 0.209\n",
      "In epoch 300, loss: 0.209\n",
      "In epoch 305, loss: 0.211\n",
      "In epoch 310, loss: 0.208\n",
      "In epoch 315, loss: 0.209\n",
      "In epoch 320, loss: 0.210\n",
      "In epoch 325, loss: 0.207\n",
      "In epoch 330, loss: 0.209\n",
      "In epoch 335, loss: 0.210\n",
      "In epoch 340, loss: 0.206\n",
      "In epoch 345, loss: 0.210\n",
      "In epoch 350, loss: 0.209\n",
      "In epoch 355, loss: 0.206\n",
      "In epoch 360, loss: 0.214\n",
      "In epoch 365, loss: 0.206\n",
      "In epoch 370, loss: 0.209\n",
      "In epoch 375, loss: 0.213\n",
      "In epoch 380, loss: 0.207\n",
      "In epoch 385, loss: 0.207\n",
      "In epoch 390, loss: 0.214\n",
      "In epoch 395, loss: 0.207\n",
      "In epoch 400, loss: 0.207\n",
      "In epoch 405, loss: 0.212\n",
      "In epoch 410, loss: 0.207\n",
      "In epoch 415, loss: 0.206\n",
      "In epoch 420, loss: 0.207\n",
      "In epoch 425, loss: 0.207\n",
      "In epoch 430, loss: 0.208\n",
      "In epoch 435, loss: 0.210\n",
      "In epoch 440, loss: 0.208\n",
      "In epoch 445, loss: 0.207\n",
      "In epoch 450, loss: 0.215\n",
      "In epoch 455, loss: 0.208\n",
      "In epoch 460, loss: 0.211\n",
      "In epoch 465, loss: 0.208\n",
      "In epoch 470, loss: 0.210\n",
      "In epoch 475, loss: 0.210\n",
      "In epoch 480, loss: 0.206\n",
      "In epoch 485, loss: 0.209\n",
      "In epoch 490, loss: 0.209\n",
      "In epoch 495, loss: 0.207\n"
     ]
    },
    {
     "data": {
      "image/png": "[encoded data removed]",
      "text/plain": [
       "<Figure size 640x480 with 1 Axes>"
      ]
     },
     "metadata": {},
     "output_type": "display_data"
    },
    {
     "name": "stdout",
     "output_type": "stream",
     "text": [
      "Test evaluation\n",
      "AUC 0.9096996695317956\n"
     ]
    }
   ],
   "source": [
    "device = torch.device('cuda' if torch.cuda.is_available() else 'cpu')\n",
    "h_feats = 24\n",
    "model = GCN(train_graph.ndata[\"feat\"].shape[1], h_feats).to(device)\n",
    "predictor = MLPPredictor(h_feats).to(device)\n",
    "#predictor = DotPredictor().to(device)\n",
    "optimizer = torch.optim.Adam(itertools.chain(model.parameters(), predictor.parameters()),\n",
    "                             lr=0.001)\n",
    "EPOCHS = 500\n",
    "BATCH_SIZE = 512\n",
    "loss_history = {'Train':[], 'Val':[]}\n",
    "train_graph = train_graph.to(device)\n",
    "test_graph = test_graph.to(device)\n",
    "val_graph = val_graph.to(device)\n",
    "for epoch in range(EPOCHS):\n",
    "    model.train()\n",
    "    # Forward\n",
    "    new_train_graph = suppress_zero_degree(train_graph)\n",
    "    h = model(new_train_graph, train_graph.ndata[\"feat\"])\n",
    "    pos_pred = predictor(train_pos_graph.to(device), h)\n",
    "    neg_pred = predictor(train_neg_graph.to(device), h)\n",
    "    loss = compute_loss(pos_pred, neg_pred, device)\n",
    "    # Backward\n",
    "    optimizer.zero_grad()\n",
    "    loss.backward()\n",
    "    optimizer.step()\n",
    "    loss_history['Train'].append(loss.item())\n",
    "\n",
    "    # Validation\n",
    "    model.eval()\n",
    "    with torch.no_grad():\n",
    "      new_val_graph = suppress_zero_degree(val_graph)\n",
    "      h = model(new_val_graph, val_graph.ndata[\"feat\"])\n",
    "      pos_pred = predictor(val_pos_graph.to(device), h)\n",
    "      neg_pred = predictor(val_neg_graph.to(device), h)\n",
    "      loss = compute_loss(pos_pred, neg_pred, device)\n",
    "      loss_history['Val'].append(loss.item())\n",
    "\n",
    "    if epoch%5 == 0:\n",
    "        print(f\"In epoch {epoch}, loss: {loss:.3f}\")\n",
    "\n",
    "plot_loss(loss_history)\n",
    "\n",
    "# Prediction\n",
    "model.eval()\n",
    "with torch.no_grad():\n",
    "    new_test_graph = suppress_zero_degree(test_graph)\n",
    "    h = model(new_test_graph, test_graph.ndata[\"feat\"])\n",
    "    pos_pred = predictor(test_pos_graph.to(device), h)\n",
    "    neg_pred = predictor(test_neg_graph.to(device), h)\n",
    "    print(\"Test evaluation\")\n",
    "    print(\"AUC\", compute_auc(pos_pred.cpu(), neg_pred.cpu()))"
   ]
  },
  {
   "cell_type": "code",
   "execution_count": null,
   "id": "0a5e9c02-014b-41ce-8d45-7cbe41c0f53e",
   "metadata": {
    "colab": {
     "base_uri": "https://localhost:8080/",
     "height": 1000
    },
    "executionInfo": {
     "elapsed": 0,
     "status": "ok",
     "timestamp": 1747016910958,
     "user": {
      "displayName": "Jade AFFOLABI",
      "userId": "17879023831446420678"
     },
     "user_tz": -120
    },
    "id": "0a5e9c02-014b-41ce-8d45-7cbe41c0f53e",
    "outputId": "7222261d-f744-4a88-f4a1-fd4f8a52969e"
   },
   "outputs": [
    {
     "metadata": {
      "tags": null
     },
     "name": "stdout",
     "output_type": "stream",
     "text": [
      "In epoch 0, loss: 0.384\n",
      "In epoch 5, loss: 0.165\n",
      "In epoch 10, loss: 0.151\n",
      "In epoch 15, loss: 0.143\n",
      "In epoch 20, loss: 0.138\n",
      "In epoch 25, loss: 0.133\n",
      "In epoch 30, loss: 0.129\n",
      "In epoch 35, loss: 0.128\n",
      "In epoch 40, loss: 0.126\n",
      "In epoch 45, loss: 0.123\n",
      "In epoch 50, loss: 0.123\n",
      "In epoch 55, loss: 0.120\n",
      "In epoch 60, loss: 0.119\n",
      "In epoch 65, loss: 0.119\n",
      "In epoch 70, loss: 0.118\n",
      "In epoch 75, loss: 0.117\n",
      "In epoch 80, loss: 0.117\n",
      "In epoch 85, loss: 0.117\n",
      "In epoch 90, loss: 0.116\n",
      "In epoch 95, loss: 0.116\n",
      "In epoch 100, loss: 0.115\n",
      "In epoch 105, loss: 0.115\n",
      "In epoch 110, loss: 0.116\n",
      "In epoch 115, loss: 0.114\n",
      "In epoch 120, loss: 0.113\n",
      "In epoch 125, loss: 0.114\n",
      "In epoch 130, loss: 0.114\n",
      "In epoch 135, loss: 0.115\n",
      "In epoch 140, loss: 0.114\n",
      "In epoch 145, loss: 0.114\n",
      "In epoch 150, loss: 0.114\n",
      "In epoch 155, loss: 0.113\n",
      "In epoch 160, loss: 0.113\n",
      "In epoch 165, loss: 0.113\n",
      "In epoch 170, loss: 0.113\n",
      "In epoch 175, loss: 0.113\n",
      "In epoch 180, loss: 0.112\n",
      "In epoch 185, loss: 0.113\n",
      "In epoch 190, loss: 0.112\n",
      "In epoch 195, loss: 0.112\n"
     ]
    },
    {
     "data": {
      "image/png": "[encoded data removed]",
      "text/plain": [
       "<Figure size 640x480 with 1 Axes>"
      ]
     },
     "metadata": {},
     "output_type": "display_data"
    },
    {
     "metadata": {
      "tags": null
     },
     "name": "stdout",
     "output_type": "stream",
     "text": [
      "Test evaluation\n",
      "AUC 0.8536595752798803\n"
     ]
    }
   ],
   "source": [
    "device = torch.device('cuda' if torch.cuda.is_available() else 'cpu')\n",
    "h_feats = 24\n",
    "model = GraphSAGE(train_graph.ndata[\"feat\"].shape[1], h_feats).to(device)\n",
    "predictor = MLPPredictor(h_feats).to(device)\n",
    "#predictor = DotPredictor().to(device)\n",
    "optimizer = torch.optim.Adam(itertools.chain(model.parameters(), predictor.parameters()),\n",
    "                             lr=0.01)\n",
    "EPOCHS = 200\n",
    "BATCH_SIZE = 512\n",
    "loss_history = {'Train':[], 'Val':[]}\n",
    "train_graph = train_graph.to(device)\n",
    "test_graph = test_graph.to(device)\n",
    "val_graph = val_graph.to(device)\n",
    "for epoch in range(EPOCHS):\n",
    "    model.train()\n",
    "    train_dataloader = Dataloader_pos_neg_graph(train_pos_graph, train_neg_graph, BATCH_SIZE)\n",
    "    total_train_loss = 0\n",
    "    for batch_pos, batch_neg in train_dataloader:\n",
    "        # Forward\n",
    "        h = model(train_graph, train_graph.ndata[\"feat\"])\n",
    "        pos_pred = predictor(batch_pos.to(device), h[batch_pos.ndata[dgl.NID]])\n",
    "        neg_pred = predictor(batch_neg.to(device), h[batch_neg.ndata[dgl.NID]])\n",
    "        loss = compute_loss(pos_pred, neg_pred, device)\n",
    "        # Backward\n",
    "        optimizer.zero_grad()\n",
    "        loss.backward()\n",
    "        optimizer.step()\n",
    "        total_train_loss += loss.item()\n",
    "    loss_history['Train'].append(total_train_loss/train_dataloader.num_batches)\n",
    "\n",
    "    # Evaluation on the validation set\n",
    "    model.eval()\n",
    "    with torch.no_grad():\n",
    "      val_dataloader = Dataloader_pos_neg_graph(val_pos_graph, val_neg_graph, BATCH_SIZE)\n",
    "      total_val_loss = 0\n",
    "      for batch_pos, batch_neg in val_dataloader:\n",
    "        h = model(val_graph, val_graph.ndata[\"feat\"])\n",
    "        pos_pred = predictor(batch_pos.to(device), h[batch_pos.ndata[dgl.NID]])\n",
    "        neg_pred = predictor(batch_neg.to(device), h[batch_neg.ndata[dgl.NID]])\n",
    "        loss = compute_loss(pos_pred, neg_pred, device)\n",
    "        total_val_loss += loss.item()\n",
    "      loss_history['Val'].append(total_val_loss/val_dataloader.num_batches)\n",
    "\n",
    "    if epoch%5 == 0:\n",
    "        print(f\"In epoch {epoch}, loss: {total_train_loss/train_dataloader.num_batches:.3f}\")\n",
    "\n",
    "plot_loss(loss_history)\n",
    "\n",
    "# Evaluation on the test set\n",
    "model.eval()\n",
    "with torch.no_grad():\n",
    "    h = model(test_graph, test_graph.ndata[\"feat\"])\n",
    "    pos_pred = predictor(test_pos_graph.to(device), h)\n",
    "    neg_pred = predictor(test_neg_graph.to(device), h)\n",
    "    print(\"Test evaluation\")\n",
    "    print(\"AUC\", compute_auc(pos_pred.cpu(), neg_pred.cpu()))"
   ]
  }
 ],
 "metadata": {
  "accelerator": "GPU",
  "colab": {
   "gpuType": "T4",
   "provenance": []
  },
  "kernelspec": {
   "display_name": "venv_ML",
   "language": "python",
   "name": "venv_ml"
  },
  "language_info": {
   "codemirror_mode": {
    "name": "ipython",
    "version": 3
   },
   "file_extension": ".py",
   "mimetype": "text/x-python",
   "name": "python",
   "nbconvert_exporter": "python",
   "pygments_lexer": "ipython3",
   "version": "3.10.12"
  }
 },
 "nbformat": 4,
 "nbformat_minor": 5
}
